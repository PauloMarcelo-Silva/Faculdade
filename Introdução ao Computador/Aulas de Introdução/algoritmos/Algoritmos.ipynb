{
 "cells": [
  {
   "cell_type": "code",
   "execution_count": 10,
   "metadata": {
    "scrolled": true
   },
   "outputs": [],
   "source": [
    "#QUESTÃO 01\n",
    "text = ('''O onibus dos politicos \n",
    "uma noite escura \n",
    "voltando de uma carreata pelo interior \n",
    "um dos onibus \n",
    "lotado de politicos sai da pista \n",
    "capota duas vezes e cai numa fazenda \n",
    "O fazendeiro acorda assustado e vai ver o que aconteceu \n",
    "Ao se deparar com aquela terrivel visao \n",
    "rapidamente comeca a cavar um buraco \n",
    "onde enterra os corpos \n",
    "Alguns dias depois \n",
    "um investigador bate a sua porta e faz varias perguntas sobre o acidente \n",
    "E onde estao os politicos \n",
    "Eu enterrei eles naquela cova ali \n",
    "Mas estavam todos mortos \n",
    "alguns diziam que nao \n",
    "mas o senhor sabe como os politicos sao mentirosos''')\n",
    "\n",
    "def cod_cesar(text, chave):\n",
    "    for a in text:\n",
    "        num_cript = ord(a) + chave\n",
    "        if(num_cript > 122):\n",
    "            num_cript = 32 + (num_cript % 122)\n",
    "    \n",
    "       \n",
    "        print(num_cript, end= \" \")\n",
    "\n"
   ]
  },
  {
   "cell_type": "code",
   "execution_count": 13,
   "metadata": {
    "scrolled": true
   },
   "outputs": [
    {
     "name": "stdout",
     "output_type": "stream",
     "text": [
      "84 37 116 115 110 103 122 120 37 105 116 120 37 117 116 113 110 121 110 104 116 120 37 15 122 114 102 37 115 116 110 121 106 37 106 120 104 122 119 102 37 15 33 116 113 121 102 115 105 116 37 105 106 37 122 114 102 37 104 102 119 119 106 102 121 102 37 117 106 113 116 37 110 115 121 106 119 110 116 119 37 15 122 114 37 105 116 120 37 116 115 110 103 122 120 37 15 113 116 121 102 105 116 37 105 106 37 117 116 113 110 121 110 104 116 120 37 120 102 110 37 105 102 37 117 110 120 121 102 37 15 104 102 117 116 121 102 37 105 122 102 120 37 33 106 37 106 120 37 106 37 104 102 110 37 115 122 114 102 37 107 102 37 106 115 105 102 37 15 84 37 107 102 37 106 115 105 106 110 119 116 37 102 104 116 119 105 102 37 102 120 120 122 120 121 102 105 116 37 106 37 33 102 110 37 33 106 119 37 116 37 118 122 106 37 102 104 116 115 121 106 104 106 122 37 15 70 116 37 120 106 37 105 106 117 102 119 102 119 37 104 116 114 37 102 118 122 106 113 102 37 121 106 119 119 110 33 106 113 37 33 110 120 102 116 37 15 119 102 117 110 105 102 114 106 115 121 106 37 104 116 114 106 104 102 37 102 37 104 102 33 102 119 37 122 114 37 103 122 119 102 104 116 37 15 116 115 105 106 37 106 115 121 106 119 119 102 37 116 120 37 104 116 119 117 116 120 37 15 70 113 108 122 115 120 37 105 110 102 120 37 105 106 117 116 110 120 37 15 122 114 37 110 115 33 106 120 121 110 108 102 105 116 119 37 103 102 121 106 37 102 37 120 122 102 37 117 116 119 121 102 37 106 37 107 102 37 37 33 102 119 110 102 120 37 117 106 119 108 122 115 121 102 120 37 120 116 103 119 106 37 116 37 102 104 110 105 106 115 121 106 37 15 74 37 116 115 105 106 37 106 120 121 102 116 37 116 120 37 117 116 113 110 121 110 104 116 120 37 15 74 122 37 106 115 121 106 119 119 106 110 37 106 113 106 120 37 115 102 118 122 106 113 102 37 104 116 33 102 37 102 113 110 37 15 82 102 120 37 106 120 121 102 33 102 114 37 121 116 105 116 120 37 114 116 119 121 116 120 37 15 102 113 108 122 115 120 37 105 110 37 110 102 114 37 118 122 106 37 115 102 116 37 15 114 102 120 37 116 37 120 106 115 109 116 119 37 120 102 103 106 37 104 116 114 116 37 116 120 37 117 116 113 110 121 110 104 116 120 37 120 102 116 37 114 106 115 121 110 119 116 120 116 120 "
     ]
    }
   ],
   "source": [
    "cod_cesar(text,5)"
   ]
  },
  {
   "cell_type": "code",
   "execution_count": 19,
   "metadata": {},
   "outputs": [],
   "source": [
    "def decod_cesar(text, chave):\n",
    "    for b in text:\n",
    "        num_decript = ord(b) + chave\n",
    "        char_decript = chr(num_decript - chave)\n",
    "        print(char_decript, end=\"\")"
   ]
  },
  {
   "cell_type": "code",
   "execution_count": 22,
   "metadata": {
    "scrolled": true
   },
   "outputs": [
    {
     "name": "stdout",
     "output_type": "stream",
     "text": [
      "O onibus dos politicos \n",
      "uma noite escura \n",
      "voltando de uma carreata pelo interior \n",
      "um dos onibus \n",
      "lotado de politicos sai da pista \n",
      "capota duas vezes e cai numa fazenda \n",
      "O fazendeiro acorda assustado e vai ver o que aconteceu \n",
      "Ao se deparar com aquela terrivel visao \n",
      "rapidamente comeca a cavar um buraco \n",
      "onde enterra os corpos \n",
      "Alguns dias depois \n",
      "um investigador bate a sua porta e faz varias perguntas sobre o acidente \n",
      "E onde estao os politicos \n",
      "Eu enterrei eles naquela cova ali \n",
      "Mas estavam todos mortos \n",
      "alguns diziam que nao \n",
      "mas o senhor sabe como os politicos sao mentirosos"
     ]
    }
   ],
   "source": [
    "decod_cesar(text,6)"
   ]
  },
  {
   "cell_type": "code",
   "execution_count": null,
   "metadata": {},
   "outputs": [],
   "source": []
  }
 ],
 "metadata": {
  "kernelspec": {
   "display_name": "Python 3",
   "language": "python",
   "name": "python3"
  },
  "language_info": {
   "codemirror_mode": {
    "name": "ipython",
    "version": 3
   },
   "file_extension": ".py",
   "mimetype": "text/x-python",
   "name": "python",
   "nbconvert_exporter": "python",
   "pygments_lexer": "ipython3",
   "version": "3.8.3"
  }
 },
 "nbformat": 4,
 "nbformat_minor": 4
}
