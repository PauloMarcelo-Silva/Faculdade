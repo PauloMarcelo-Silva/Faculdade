{
 "cells": [
  {
   "cell_type": "code",
   "execution_count": 32,
   "id": "supreme-cholesterol",
   "metadata": {},
   "outputs": [
    {
     "data": {
      "text/plain": [
       "Counter({'Fnatic': 1,\n",
       "         'Taipei Assassins': 2,\n",
       "         'SK Telecom T1': 7,\n",
       "         'Samsung Galaxy White': 1,\n",
       "         'Samsung Galaxy': 2,\n",
       "         'Invictus Gaming': 2,\n",
       "         'FunPlus Phoenix': 1,\n",
       "         'Keyd Stars': 1,\n",
       "         'VTI Ignis': 1,\n",
       "         'paiN': 5,\n",
       "         'KaBuM!': 4,\n",
       "         'INTZ': 2,\n",
       "         'Team oNe': 1,\n",
       "         'Flamengo': 1,\n",
       "         'KaBuM!KaBuM!': 1})"
      ]
     },
     "execution_count": 32,
     "metadata": {},
     "output_type": "execute_result"
    }
   ],
   "source": [
    "from collections import Counter\n",
    "\n",
    "times = [\"Fnatic\",\"Taipei Assassins\",\"SK Telecom T1\",\"Samsung Galaxy White\",\n",
    "        \"SK Telecom T1\",\"SK Telecom T1\",\"Samsung Galaxy\",\"Samsung Galaxy\",\n",
    "        \"Taipei Assassins\",\"Invictus Gaming\",\"Invictus Gaming\",\"FunPlus Phoenix\",\n",
    "        \"Keyd Stars\",\"VTI Ignis\",\"paiN\",\"paiN\",\"KaBuM!\",\"INTZ\",\"INTZ\",\"Team oNe\",\n",
    "        \"Flamengo\",\"KaBuM!\",\"KaBuM!\",\"KaBuM!\",\"KaBuM!\"\"KaBuM!\",\"SK Telecom T1\",\"SK Telecom T1\",\n",
    "        \"SK Telecom T1\",\"SK Telecom T1\",\"paiN\",\"paiN\",\"paiN\"]\n",
    "#agora com esse programa irei resolver quantas vezes cada time mostrado ganhou o campeonato\n",
    "#usando o metodos classe counter.\n",
    "lista_times = Counter(times)\n",
    "lista_times\n",
    "#NÃO ESQUECE O COUNTER TEM O C MAIUSCULO."
   ]
  },
  {
   "cell_type": "code",
   "execution_count": 43,
   "id": "floating-maldives",
   "metadata": {},
   "outputs": [
    {
     "data": {
      "text/plain": [
       "[('SK Telecom T1', 7),\n",
       " ('paiN', 5),\n",
       " ('KaBuM!', 4),\n",
       " ('Taipei Assassins', 2),\n",
       " ('Samsung Galaxy', 2)]"
      ]
     },
     "execution_count": 43,
     "metadata": {},
     "output_type": "execute_result"
    }
   ],
   "source": [
    "#METODO COMMON\n",
    "#metodo usa so com o import Counter\n",
    "lista_times.most_common(5)\n",
    "#ta então,não é minha lista de times q eu vou colocar e ss meu contador."
   ]
  },
  {
   "cell_type": "code",
   "execution_count": null,
   "id": "controlling-poultry",
   "metadata": {},
   "outputs": [],
   "source": []
  }
 ],
 "metadata": {
  "kernelspec": {
   "display_name": "Python 3",
   "language": "python",
   "name": "python3"
  },
  "language_info": {
   "codemirror_mode": {
    "name": "ipython",
    "version": 3
   },
   "file_extension": ".py",
   "mimetype": "text/x-python",
   "name": "python",
   "nbconvert_exporter": "python",
   "pygments_lexer": "ipython3",
   "version": "3.9.1"
  }
 },
 "nbformat": 4,
 "nbformat_minor": 5
}
