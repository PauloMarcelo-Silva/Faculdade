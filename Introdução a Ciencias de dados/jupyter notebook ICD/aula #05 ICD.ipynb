{
 "cells": [
  {
   "cell_type": "code",
   "execution_count": 1,
   "id": "metropolitan-observation",
   "metadata": {},
   "outputs": [
    {
     "name": "stdout",
     "output_type": "stream",
     "text": [
      "{'aluno 01': 9, 'aluno 02': 8, 'aluno 03': 10}\n"
     ]
    }
   ],
   "source": [
    "#criando um dicionarios\n",
    "notas = {\"aluno 01\" : 9,\"aluno 02\" : 8,\"aluno 03\" : 10}\n",
    "\n",
    "print(notas)"
   ]
  },
  {
   "cell_type": "code",
   "execution_count": 2,
   "id": "satellite-broadcast",
   "metadata": {},
   "outputs": [
    {
     "data": {
      "text/plain": [
       "8"
      ]
     },
     "execution_count": 2,
     "metadata": {},
     "output_type": "execute_result"
    }
   ],
   "source": [
    "#acessando uma das minhas chaves do meu dicionario\n",
    "notas[\"aluno 02\"]"
   ]
  },
  {
   "cell_type": "code",
   "execution_count": 7,
   "id": "proof-buddy",
   "metadata": {},
   "outputs": [
    {
     "name": "stdout",
     "output_type": "stream",
     "text": [
      "essa chave não existe nesse dicionario\n"
     ]
    }
   ],
   "source": [
    "#se eu tentar acessar uma chave que não existe no meu dicionario,o jupytter me dara um \"key error\"\n",
    "#com o modulo try posso melhor isso veja:\n",
    "try:\n",
    "    print(notas[\"aluno 04\"])\n",
    "except KeyError:\n",
    "    print(\"essa chave não existe nesse dicionario\")\n",
    "#não esquece de colocar o k de key em maiusculo e o E de error\n"
   ]
  },
  {
   "cell_type": "code",
   "execution_count": 8,
   "id": "cardiovascular-petersburg",
   "metadata": {},
   "outputs": [
    {
     "data": {
      "text/plain": [
       "True"
      ]
     },
     "execution_count": 8,
     "metadata": {},
     "output_type": "execute_result"
    }
   ],
   "source": [
    "#chegando se exite uma chave no meu dicionario utilizando apenas o in.\n",
    "\"aluno 01\" in notas"
   ]
  },
  {
   "cell_type": "code",
   "execution_count": 10,
   "id": "changing-subsection",
   "metadata": {},
   "outputs": [
    {
     "data": {
      "text/plain": [
       "False"
      ]
     },
     "execution_count": 10,
     "metadata": {},
     "output_type": "execute_result"
    }
   ],
   "source": [
    "\"aluno 05\" in notas"
   ]
  },
  {
   "cell_type": "code",
   "execution_count": 13,
   "id": "unusual-chile",
   "metadata": {},
   "outputs": [
    {
     "data": {
      "text/plain": [
       "0"
      ]
     },
     "execution_count": 13,
     "metadata": {},
     "output_type": "execute_result"
    }
   ],
   "source": [
    "#utilizando o get para chaves inexistentes.\n",
    "notas.get(\"aluno 04\",0)\n",
    "#o termo usado do lado direito da chaves inexistente no meu get aparecera.\n",
    "#O TERMO SEM Q SER UM INT."
   ]
  },
  {
   "cell_type": "code",
   "execution_count": 14,
   "id": "mexican-draft",
   "metadata": {},
   "outputs": [
    {
     "data": {
      "text/plain": [
       "dict_keys(['aluno 01', 'aluno 02', 'aluno 03'])"
      ]
     },
     "execution_count": 14,
     "metadata": {},
     "output_type": "execute_result"
    }
   ],
   "source": [
    "#METODO KEY.\n",
    "#com esse metodo eu posso saber quais são as chaves existentes no meu dicionario\n",
    "notas.keys()"
   ]
  },
  {
   "cell_type": "code",
   "execution_count": 15,
   "id": "systematic-cooking",
   "metadata": {},
   "outputs": [
    {
     "data": {
      "text/plain": [
       "dict_values([9, 8, 10])"
      ]
     },
     "execution_count": 15,
     "metadata": {},
     "output_type": "execute_result"
    }
   ],
   "source": [
    "#METODO VALUES.\n",
    "#com esse metodo posso saber todos os valores presentes em meu dicionario.\n",
    "notas.values()"
   ]
  },
  {
   "cell_type": "code",
   "execution_count": 17,
   "id": "latter-comfort",
   "metadata": {},
   "outputs": [
    {
     "data": {
      "text/plain": [
       "dict_items([('aluno 01', 9), ('aluno 02', 8), ('aluno 03', 10)])"
      ]
     },
     "execution_count": 17,
     "metadata": {},
     "output_type": "execute_result"
    }
   ],
   "source": [
    "#METODO ITEMS\n",
    "#com esse metodos receberei tuplas das minhas chaves,existentes no meu dicionario.\n",
    "notas.items()"
   ]
  },
  {
   "cell_type": "code",
   "execution_count": 18,
   "id": "affiliated-advocacy",
   "metadata": {},
   "outputs": [
    {
     "ename": "SyntaxError",
     "evalue": "invalid syntax (<ipython-input-18-7702e9671be3>, line 4)",
     "output_type": "error",
     "traceback": [
      "\u001b[1;36m  File \u001b[1;32m\"<ipython-input-18-7702e9671be3>\"\u001b[1;36m, line \u001b[1;32m4\u001b[0m\n\u001b[1;33m    print Counter(myList)\u001b[0m\n\u001b[1;37m          ^\u001b[0m\n\u001b[1;31mSyntaxError\u001b[0m\u001b[1;31m:\u001b[0m invalid syntax\n"
     ]
    }
   ],
   "source": []
  },
  {
   "cell_type": "code",
   "execution_count": null,
   "id": "moderate-preview",
   "metadata": {},
   "outputs": [],
   "source": []
  }
 ],
 "metadata": {
  "kernelspec": {
   "display_name": "Python 3",
   "language": "python",
   "name": "python3"
  },
  "language_info": {
   "codemirror_mode": {
    "name": "ipython",
    "version": 3
   },
   "file_extension": ".py",
   "mimetype": "text/x-python",
   "name": "python",
   "nbconvert_exporter": "python",
   "pygments_lexer": "ipython3",
   "version": "3.9.1"
  }
 },
 "nbformat": 4,
 "nbformat_minor": 5
}
