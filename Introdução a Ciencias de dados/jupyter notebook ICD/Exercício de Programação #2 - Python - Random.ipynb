{
 "cells": [
  {
   "cell_type": "code",
   "execution_count": 3,
   "metadata": {},
   "outputs": [],
   "source": [
    "import random\n",
    "import string \n",
    "def generate_password(n_chars, use_numbers=True, use_special_chars=True):\n",
    "    use_numbers = range(10)\n",
    "    use_special_chars = ['!','@','#','$','%','&','*','(',')']\n",
    "    \n",
    "    x= random.sample(use_special_chars,9) + random.sample(use_numbers,10)\n",
    "    \n",
    "    y = random.sample(x,n_chars)\n",
    "    separador = \"\"\n",
    "    resultado = separador.join(map(str, y))\n",
    "    \n",
    "    return resultado\n"
   ]
  },
  {
   "cell_type": "code",
   "execution_count": 4,
   "metadata": {},
   "outputs": [
    {
     "name": "stdout",
     "output_type": "stream",
     "text": [
      "#4(01%$)83\n",
      "60*&24$%#7\n",
      "(#%!&$17*6\n"
     ]
    }
   ],
   "source": [
    "print(generate_password(10))\n",
    "print(generate_password(10, use_numbers=False))\n",
    "print(generate_password(10, use_numbers=False, use_special_chars=False))"
   ]
  },
  {
   "cell_type": "code",
   "execution_count": null,
   "metadata": {},
   "outputs": [],
   "source": []
  }
 ],
 "metadata": {
  "kernelspec": {
   "display_name": "Python 3",
   "language": "python",
   "name": "python3"
  },
  "language_info": {
   "codemirror_mode": {
    "name": "ipython",
    "version": 3
   },
   "file_extension": ".py",
   "mimetype": "text/x-python",
   "name": "python",
   "nbconvert_exporter": "python",
   "pygments_lexer": "ipython3",
   "version": "3.9.1"
  }
 },
 "nbformat": 4,
 "nbformat_minor": 4
}
