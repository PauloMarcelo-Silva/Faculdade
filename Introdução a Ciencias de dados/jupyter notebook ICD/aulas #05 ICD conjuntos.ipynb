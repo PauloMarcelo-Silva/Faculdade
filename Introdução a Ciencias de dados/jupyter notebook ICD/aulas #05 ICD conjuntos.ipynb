{
 "cells": [
  {
   "cell_type": "code",
   "execution_count": 1,
   "id": "geographic-privacy",
   "metadata": {},
   "outputs": [
    {
     "name": "stdout",
     "output_type": "stream",
     "text": [
      "{1, 2, 3, 4, 5, 6, 7, 10}\n"
     ]
    }
   ],
   "source": [
    "#criando um conjunto\n",
    "numeros = {1,2,3,4,5,10,6,7}\n",
    "\n",
    "print (numeros)"
   ]
  },
  {
   "cell_type": "code",
   "execution_count": 2,
   "id": "danish-locking",
   "metadata": {},
   "outputs": [
    {
     "name": "stdout",
     "output_type": "stream",
     "text": [
      "{1, 2, 99, 5, 6, 7, 8, 9, 101, 11, 22, 89}\n"
     ]
    }
   ],
   "source": [
    "#criando um conjuntos com eleementos repetidos.\n",
    "numeros = {1,1,1,11,2,2,22,2,5,6,7,8,8,8,89,9,99,99,101,101}\n",
    "print(numeros)\n",
    "#então no caso ele so me retornara os numeros presentes no meu conjunto,não as repetições deles\n"
   ]
  },
  {
   "cell_type": "code",
   "execution_count": 4,
   "id": "choice-jenny",
   "metadata": {},
   "outputs": [
    {
     "data": {
      "text/plain": [
       "True"
      ]
     },
     "execution_count": 4,
     "metadata": {},
     "output_type": "execute_result"
    }
   ],
   "source": [
    "#checando elemento existente em uma lista longa\n",
    "grande_lista =range(100000000000)\n",
    "\n",
    "99 in grande_lista"
   ]
  },
  {
   "cell_type": "code",
   "execution_count": 7,
   "id": "hispanic-given",
   "metadata": {},
   "outputs": [
    {
     "data": {
      "text/plain": [
       "True"
      ]
     },
     "execution_count": 7,
     "metadata": {},
     "output_type": "execute_result"
    }
   ],
   "source": [
    "#agora usando o modulo set\n",
    "grande_set = set(range(10000))\n",
    "\n",
    "99 in grande_set"
   ]
  },
  {
   "cell_type": "code",
   "execution_count": null,
   "id": "intellectual-nowhere",
   "metadata": {},
   "outputs": [],
   "source": []
  }
 ],
 "metadata": {
  "kernelspec": {
   "display_name": "Python 3",
   "language": "python",
   "name": "python3"
  },
  "language_info": {
   "codemirror_mode": {
    "name": "ipython",
    "version": 3
   },
   "file_extension": ".py",
   "mimetype": "text/x-python",
   "name": "python",
   "nbconvert_exporter": "python",
   "pygments_lexer": "ipython3",
   "version": "3.9.1"
  }
 },
 "nbformat": 4,
 "nbformat_minor": 5
}
