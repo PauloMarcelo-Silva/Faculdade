{
 "cells": [
  {
   "cell_type": "code",
   "execution_count": 2,
   "id": "grateful-documentation",
   "metadata": {
    "scrolled": true
   },
   "outputs": [],
   "source": [
    "primeiro_nome = \"paulo\"\n",
    "segundo_nome = \"marcelo\""
   ]
  },
  {
   "cell_type": "code",
   "execution_count": 4,
   "id": "third-jewel",
   "metadata": {},
   "outputs": [
    {
     "data": {
      "text/plain": [
       "'paulo'"
      ]
     },
     "execution_count": 4,
     "metadata": {},
     "output_type": "execute_result"
    }
   ],
   "source": [
    "primeiro_nome"
   ]
  },
  {
   "cell_type": "code",
   "execution_count": 5,
   "id": "metric-arizona",
   "metadata": {},
   "outputs": [],
   "source": [
    "full_nome = \"paulo\\tsilva\"\n",
    "#\\t  é um tab"
   ]
  },
  {
   "cell_type": "code",
   "execution_count": 7,
   "id": "suburban-maria",
   "metadata": {},
   "outputs": [
    {
     "data": {
      "text/plain": [
       "'paulo \\t silva'"
      ]
     },
     "execution_count": 7,
     "metadata": {},
     "output_type": "execute_result"
    }
   ],
   "source": [
    "full_nome"
   ]
  },
  {
   "cell_type": "code",
   "execution_count": 11,
   "id": "fourth-accreditation",
   "metadata": {},
   "outputs": [
    {
     "name": "stdout",
     "output_type": "stream",
     "text": [
      "paulo \t silva\n"
     ]
    }
   ],
   "source": [
    "print(full_nome)\n",
    "\n",
    "#meu full nome so saira correto se eu colocar um print"
   ]
  },
  {
   "cell_type": "code",
   "execution_count": 15,
   "id": "optimum-response",
   "metadata": {},
   "outputs": [
    {
     "name": "stdout",
     "output_type": "stream",
     "text": [
      "olá paulo marcelo\n"
     ]
    }
   ],
   "source": [
    "#concatenando uma string\n",
    "texto = (\"olá \" + primeiro_nome + \" \" + segundo_nome)\n",
    "print(texto)"
   ]
  },
  {
   "cell_type": "code",
   "execution_count": null,
   "id": "double-industry",
   "metadata": {},
   "outputs": [],
   "source": [
    "# as strings nao estao limitadas para so concatenar com os outras string,tbm posso concatenar com ints,floats,true,false e outros"
   ]
  },
  {
   "cell_type": "code",
   "execution_count": 16,
   "id": "diverse-chorus",
   "metadata": {},
   "outputs": [
    {
     "name": "stdout",
     "output_type": "stream",
     "text": [
      "digite um numero: 50\n",
      " o valo de R$50\n"
     ]
    }
   ],
   "source": [
    "valor = int(input(\"digite um numero: \"))\n",
    "print(\" o valo5 de R$\" + str(valor))\n",
    "#para antes a concatenação de str + (outra opção) preciso transforma essa outra em str\n"
   ]
  },
  {
   "cell_type": "code",
   "execution_count": 25,
   "id": "subtle-discount",
   "metadata": {},
   "outputs": [
    {
     "ename": "SyntaxError",
     "evalue": "invalid syntax (<ipython-input-25-ad615d12a4fd>, line 2)",
     "output_type": "error",
     "traceback": [
      "\u001b[1;36m  File \u001b[1;32m\"<ipython-input-25-ad615d12a4fd>\"\u001b[1;36m, line \u001b[1;32m2\u001b[0m\n\u001b[1;33m    texto =F \"ola {primeiro_nome} {segundo nome}\"\u001b[0m\n\u001b[1;37m             ^\u001b[0m\n\u001b[1;31mSyntaxError\u001b[0m\u001b[1;31m:\u001b[0m invalid syntax\n"
     ]
    }
   ],
   "source": [
    "#outra forma de concatenação sem usar o  + \n",
    "texto = F \"ola {primeiro_nome} {segundo nome}\"\n"
   ]
  },
  {
   "cell_type": "code",
   "execution_count": 32,
   "id": "floppy-pharmaceutical",
   "metadata": {},
   "outputs": [],
   "source": [
    "print = ( F\"o valo de R$ {valor}\")"
   ]
  },
  {
   "cell_type": "code",
   "execution_count": null,
   "id": "consolidated-publicity",
   "metadata": {},
   "outputs": [],
   "source": [
    "#METODOS EM STR"
   ]
  },
  {
   "cell_type": "code",
   "execution_count": null,
   "id": "damaged-daisy",
   "metadata": {},
   "outputs": [],
   "source": [
    "#.upper()"
   ]
  }
 ],
 "metadata": {
  "kernelspec": {
   "display_name": "Python 3",
   "language": "python",
   "name": "python3"
  },
  "language_info": {
   "codemirror_mode": {
    "name": "ipython",
    "version": 3
   },
   "file_extension": ".py",
   "mimetype": "text/x-python",
   "name": "python",
   "nbconvert_exporter": "python",
   "pygments_lexer": "ipython3",
   "version": "3.9.1"
  }
 },
 "nbformat": 4,
 "nbformat_minor": 5
}
