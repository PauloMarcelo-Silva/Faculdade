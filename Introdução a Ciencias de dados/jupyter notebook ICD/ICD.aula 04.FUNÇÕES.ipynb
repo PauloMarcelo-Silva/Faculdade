{
 "cells": [
  {
   "cell_type": "code",
   "execution_count": 4,
   "id": "constitutional-slave",
   "metadata": {},
   "outputs": [],
   "source": [
    "def double(x):\n",
    "    return x * 2\n",
    "#double é uma função\n"
   ]
  },
  {
   "cell_type": "code",
   "execution_count": 5,
   "id": "backed-judgment",
   "metadata": {},
   "outputs": [
    {
     "data": {
      "text/plain": [
       "4"
      ]
     },
     "execution_count": 5,
     "metadata": {},
     "output_type": "execute_result"
    }
   ],
   "source": [
    "double(2)\n",
    "#aq estou especificando qual vai ser o numero multiplicado na minha função"
   ]
  },
  {
   "cell_type": "code",
   "execution_count": 8,
   "id": "extra-locator",
   "metadata": {},
   "outputs": [
    {
     "data": {
      "text/plain": [
       "6"
      ]
     },
     "execution_count": 8,
     "metadata": {},
     "output_type": "execute_result"
    }
   ],
   "source": [
    "my_double = double\n",
    "#my double é uma variavel e double é a função de cima\n",
    "#nessa linha de codigo estou atribuindo  toda função a uma variavel\n",
    "my_double(3)"
   ]
  },
  {
   "cell_type": "code",
   "execution_count": 9,
   "id": "injured-insertion",
   "metadata": {},
   "outputs": [],
   "source": [
    "def change_number(number,func):\n",
    "    return func(number)\n"
   ]
  },
  {
   "cell_type": "code",
   "execution_count": 10,
   "id": "interested-detector",
   "metadata": {},
   "outputs": [
    {
     "data": {
      "text/plain": [
       "20"
      ]
     },
     "execution_count": 10,
     "metadata": {},
     "output_type": "execute_result"
    }
   ],
   "source": [
    "change_number(10, double)\n",
    "#entoa oq vai acontecer,func é minha função double,onde double sera executado."
   ]
  },
  {
   "cell_type": "code",
   "execution_count": 11,
   "id": "crucial-conference",
   "metadata": {},
   "outputs": [
    {
     "data": {
      "text/plain": [
       "20"
      ]
     },
     "execution_count": 11,
     "metadata": {},
     "output_type": "execute_result"
    }
   ],
   "source": [
    "change_number(10, lambda x: x * 2)\n",
    "#lambda sera o parametro de 10 então x sera o valor 10"
   ]
  },
  {
   "cell_type": "code",
   "execution_count": 19,
   "id": "capital-russia",
   "metadata": {},
   "outputs": [],
   "source": [
    "def final_grade(grade, func):\n",
    "        #como ela ira funcionar,irei aplicar func em grades,onde func ira receber\n",
    "        #uma lista de notas q é grades.\n",
    "    grades = func(grade)\n",
    "    return sum(grade) / len(grades)\n",
    "#então essa seria uma funçaos de notas onde eu poderia malipular as notas.\n"
   ]
  },
  {
   "cell_type": "code",
   "execution_count": 22,
   "id": "accessible-result",
   "metadata": {},
   "outputs": [],
   "source": [
    "def remove_smallest(valor):\n",
    "#estou fazendo uam função q remove a menor nota.\n",
    "    valor.remove(min(valor))\n",
    "    #remove é um metodo\n",
    "    #a funçaõ min(valor) ira me dar o menor valor da lista de nota e remove ira removela\n",
    "    return valor\n"
   ]
  },
  {
   "cell_type": "code",
   "execution_count": 23,
   "id": "loved-grenada",
   "metadata": {},
   "outputs": [
    {
     "data": {
      "text/plain": [
       "9.0"
      ]
     },
     "execution_count": 23,
     "metadata": {},
     "output_type": "execute_result"
    }
   ],
   "source": [
    "final_grade([5,10,8], remove_smallest)\n",
    "#estou passando uma lista de notas\n",
    "#onde aq eu removi a menor nota dps fiz a media das outras duas\n"
   ]
  },
  {
   "cell_type": "code",
   "execution_count": 30,
   "id": "advisory-adrian",
   "metadata": {},
   "outputs": [],
   "source": [
    "def print_mensagem(name = \"new user\"):\n",
    "    #ese = new user,sera usadno quando eu nao passar nenhum nome no prnti mensgem\n",
    "\n",
    "    print(\"ola \" + name)\n",
    "    "
   ]
  },
  {
   "cell_type": "code",
   "execution_count": 31,
   "id": "orange-diesel",
   "metadata": {},
   "outputs": [
    {
     "name": "stdout",
     "output_type": "stream",
     "text": [
      "ola new user\n"
     ]
    }
   ],
   "source": [
    "print_mensagem()"
   ]
  },
  {
   "cell_type": "code",
   "execution_count": 36,
   "id": "tamil-johnston",
   "metadata": {},
   "outputs": [],
   "source": [
    "def mean(*args):\n",
    "#onde mean calcula a media\n",
    "#o parametro args recebera uma quantidadde de parametros\n",
    "    print(args)"
   ]
  },
  {
   "cell_type": "code",
   "execution_count": 37,
   "id": "sticky-index",
   "metadata": {},
   "outputs": [
    {
     "name": "stdout",
     "output_type": "stream",
     "text": [
      "(5, 10, 8)\n"
     ]
    }
   ],
   "source": [
    "mean(5,10,8)\n",
    "#vai imprimir uma tupla com os valores desejados"
   ]
  },
  {
   "cell_type": "code",
   "execution_count": 47,
   "id": "bulgarian-induction",
   "metadata": {},
   "outputs": [],
   "source": [
    "def mean(*args, **kwargs):\n",
    "    #darei um nome aos meus parametros com kwargs\n",
    "    print(kwargs[\"bonus\"])\n",
    "    return sum(args)/len(args)\n",
    "    #onde agora irei saber a media dos valores\n",
    "    \n",
    "    #então o kwargs sera como um dicionario\n",
    "    "
   ]
  },
  {
   "cell_type": "code",
   "execution_count": 48,
   "id": "numerous-advertiser",
   "metadata": {},
   "outputs": [
    {
     "name": "stdout",
     "output_type": "stream",
     "text": [
      "1\n"
     ]
    },
    {
     "data": {
      "text/plain": [
       "6.0"
      ]
     },
     "execution_count": 48,
     "metadata": {},
     "output_type": "execute_result"
    }
   ],
   "source": [
    "mean(5,6,7, bonus=1)"
   ]
  },
  {
   "cell_type": "code",
   "execution_count": 51,
   "id": "mexican-ocean",
   "metadata": {},
   "outputs": [],
   "source": [
    "def mean(*args, **kwargs):\n",
    "    print(kwargs.keys())\n",
    "    #com o kwargs.keys ire conseguir verificar se bonus e penalty(variaveis q eu esdcolhi) estão presentes\n",
    "    \n",
    "    return sum(args) / len(args)"
   ]
  },
  {
   "cell_type": "code",
   "execution_count": 53,
   "id": "animated-pathology",
   "metadata": {},
   "outputs": [
    {
     "name": "stdout",
     "output_type": "stream",
     "text": [
      "dict_keys(['bonus', 'penalty'])\n"
     ]
    },
    {
     "data": {
      "text/plain": [
       "5.75"
      ]
     },
     "execution_count": 53,
     "metadata": {},
     "output_type": "execute_result"
    }
   ],
   "source": [
    "mean(1,5,8,9, bonus = 1,penalty = 1)"
   ]
  },
  {
   "cell_type": "code",
   "execution_count": 54,
   "id": "improved-console",
   "metadata": {},
   "outputs": [],
   "source": [
    "def mean (*args, **kwargs):\n",
    "    nota_final = sum(args) / len(args)\n",
    "    \n",
    "    if \"bonus\" in kwargs.keys():\n",
    "        nota_final = nota_final + kwargs[\"bonus\"]\n",
    "    \n",
    "    elif \"penalty\" in kwargs.keys():\n",
    "        nota_final = nota_final - kwargs[\"penalty\"]\n",
    "        \n",
    "    return nota_final"
   ]
  },
  {
   "cell_type": "code",
   "execution_count": 55,
   "id": "amino-designer",
   "metadata": {},
   "outputs": [
    {
     "data": {
      "text/plain": [
       "9.0"
      ]
     },
     "execution_count": 55,
     "metadata": {},
     "output_type": "execute_result"
    }
   ],
   "source": [
    "mean(3,10,8, bonus = 2 , penalty = 1)"
   ]
  },
  {
   "cell_type": "code",
   "execution_count": null,
   "id": "liked-quebec",
   "metadata": {},
   "outputs": [],
   "source": []
  }
 ],
 "metadata": {
  "kernelspec": {
   "display_name": "Python 3",
   "language": "python",
   "name": "python3"
  },
  "language_info": {
   "codemirror_mode": {
    "name": "ipython",
    "version": 3
   },
   "file_extension": ".py",
   "mimetype": "text/x-python",
   "name": "python",
   "nbconvert_exporter": "python",
   "pygments_lexer": "ipython3",
   "version": "3.9.1"
  }
 },
 "nbformat": 4,
 "nbformat_minor": 5
}
