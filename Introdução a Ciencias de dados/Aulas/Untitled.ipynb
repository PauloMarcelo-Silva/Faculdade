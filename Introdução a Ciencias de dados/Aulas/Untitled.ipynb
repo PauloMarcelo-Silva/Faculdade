{
 "cells": [
  {
   "cell_type": "code",
   "execution_count": 2,
   "id": "immune-destination",
   "metadata": {},
   "outputs": [],
   "source": [
    "import numpy as np\n",
    "\n",
    "import math \n",
    "\n",
    "p1 = np.array([0,0])\n",
    "p2 = np.array([1,1])\n",
    "def distance(p1, p2):\n",
    "    \"\"\"\n",
    "    >>> distance(np.array([0,0]), np.array([1,1]))\n",
    "    1.4142135623730951\n",
    "    \n",
    "    >>> distance(np.array([1,2]), np.array([3,4]))\n",
    "    2.8284271247461903\n",
    "    \n",
    "    >>> distance(np.array([5,2]), np.array([-2,-1]))\n",
    "    7.615773105863909\n",
    "    \"\"\"\n",
    "\n",
    "    \n",
    "    h=[]\n",
    "    for i in range(len(p1)):\n",
    "        p= p2-p1\n",
    "        h.append( math.pow(p[i],2))\n",
    "        a = np.array(h)\n",
    "    \n",
    "        distancia = math.sqrt(np.sum(a))\n",
    "    return distancia\n"
   ]
  },
  {
   "cell_type": "code",
   "execution_count": null,
   "id": "proved-matrix",
   "metadata": {},
   "outputs": [],
   "source": []
  }
 ],
 "metadata": {
  "kernelspec": {
   "display_name": "Python 3",
   "language": "python",
   "name": "python3"
  },
  "language_info": {
   "codemirror_mode": {
    "name": "ipython",
    "version": 3
   },
   "file_extension": ".py",
   "mimetype": "text/x-python",
   "name": "python",
   "nbconvert_exporter": "python",
   "pygments_lexer": "ipython3",
   "version": "3.9.1"
  }
 },
 "nbformat": 4,
 "nbformat_minor": 5
}
