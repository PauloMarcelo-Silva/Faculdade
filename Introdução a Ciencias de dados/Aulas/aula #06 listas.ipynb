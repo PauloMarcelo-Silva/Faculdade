{
 "cells": [
  {
   "cell_type": "code",
   "execution_count": 2,
   "id": "alike-stuart",
   "metadata": {},
   "outputs": [
    {
     "name": "stdout",
     "output_type": "stream",
     "text": [
      "[1, 2, 3, 4, 5, 6]\n"
     ]
    }
   ],
   "source": [
    "#criando uma lista\n",
    "numeros = [1,2,3,4,5,6]\n",
    "\n",
    "print(numeros)"
   ]
  },
  {
   "cell_type": "code",
   "execution_count": 6,
   "id": "vocational-department",
   "metadata": {},
   "outputs": [
    {
     "name": "stdout",
     "output_type": "stream",
     "text": [
      "[1, 'texto', 'str', True, False, 0.34, 'pinto']\n"
     ]
    }
   ],
   "source": [
    "#uma lista em python pode ser heterogenia.\n",
    "\n",
    "lista_aleatoria = [1,\"texto\",\"str\",True,False,0.34,\"pinto\"]\n",
    "\n",
    "print(lista_aleatoria)"
   ]
  },
  {
   "cell_type": "code",
   "execution_count": 7,
   "id": "hybrid-affiliate",
   "metadata": {},
   "outputs": [
    {
     "data": {
      "text/plain": [
       "True"
      ]
     },
     "execution_count": 7,
     "metadata": {},
     "output_type": "execute_result"
    }
   ],
   "source": [
    "#checando se um elemento esta dentro da lista\n",
    "\n",
    "True in lista_aleatoria"
   ]
  },
  {
   "cell_type": "code",
   "execution_count": 10,
   "id": "monthly-cancer",
   "metadata": {},
   "outputs": [
    {
     "name": "stdout",
     "output_type": "stream",
     "text": [
      "[1, 'texto', 'str', True, False, 0.34, 'pinto', 'adicionado', 'adicionado']\n"
     ]
    }
   ],
   "source": [
    "#adicionando elementos a uma lista\n",
    "lista_aleatoria.append(\"adicionado\")\n",
    "\n",
    "print(lista_aleatoria)"
   ]
  },
  {
   "cell_type": "code",
   "execution_count": 11,
   "id": "suitable-warrant",
   "metadata": {},
   "outputs": [
    {
     "name": "stdout",
     "output_type": "stream",
     "text": [
      "[1, 'texto', 'str', True, False, 0.34, 'pinto', 'adicionado', 'adicionado', 'string', 1, 45, False, 'pintos']\n"
     ]
    }
   ],
   "source": [
    "#adicionando varios elementos em uma lista ja existente\n",
    "lista_aleatoria.extend([\"string\",1,45,False,\"pintos\"])\n",
    "\n",
    "print(lista_aleatoria)"
   ]
  },
  {
   "cell_type": "code",
   "execution_count": 15,
   "id": "egyptian-weekend",
   "metadata": {},
   "outputs": [
    {
     "data": {
      "text/plain": [
       "14"
      ]
     },
     "execution_count": 15,
     "metadata": {},
     "output_type": "execute_result"
    }
   ],
   "source": [
    "#descobrindo a quantidade de elementos de uma lista\n",
    "len(lista_aleatoria)\n"
   ]
  },
  {
   "cell_type": "code",
   "execution_count": 16,
   "id": "capable-crazy",
   "metadata": {},
   "outputs": [
    {
     "data": {
      "text/plain": [
       "21"
      ]
     },
     "execution_count": 16,
     "metadata": {},
     "output_type": "execute_result"
    }
   ],
   "source": [
    "#funçaõ sum ira somar todos os itens presentes na lista \n",
    "sum(numeros)"
   ]
  },
  {
   "cell_type": "code",
   "execution_count": 18,
   "id": "derived-playing",
   "metadata": {},
   "outputs": [
    {
     "name": "stdout",
     "output_type": "stream",
     "text": [
      "[2, 4, 6, 8, 10, 12]\n"
     ]
    }
   ],
   "source": [
    "#multiplicando minha lista por dois\n",
    "\n",
    "nova = []\n",
    "\n",
    "for i in numeros:\n",
    "    nova.append(i * 2)\n",
    "\n",
    "\n",
    "print(nova)"
   ]
  },
  {
   "cell_type": "code",
   "execution_count": null,
   "id": "checked-treasure",
   "metadata": {},
   "outputs": [],
   "source": [
    "#outra forma de multiplicar os elementos em minha lista\n",
    "\n",
    "novas = [i * 2 for ]"
   ]
  }
 ],
 "metadata": {
  "kernelspec": {
   "display_name": "Python 3",
   "language": "python",
   "name": "python3"
  },
  "language_info": {
   "codemirror_mode": {
    "name": "ipython",
    "version": 3
   },
   "file_extension": ".py",
   "mimetype": "text/x-python",
   "name": "python",
   "nbconvert_exporter": "python",
   "pygments_lexer": "ipython3",
   "version": "3.9.1"
  }
 },
 "nbformat": 4,
 "nbformat_minor": 5
}
