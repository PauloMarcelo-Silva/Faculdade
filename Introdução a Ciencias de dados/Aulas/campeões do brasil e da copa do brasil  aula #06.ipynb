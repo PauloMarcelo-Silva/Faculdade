{
 "cells": [
  {
   "cell_type": "code",
   "execution_count": 2,
   "id": "exceptional-ancient",
   "metadata": {},
   "outputs": [],
   "source": [
    "#criando conjunto com times vencedores tanto da copa quando do brasil\n",
    "cup = [ \"cruzeiro\",'gremio','palmeiras','flamengo','corinthias','internacional',\n",
    "'fluminense','sport','vasco','atletico mineiro','atletico paranaense',\n",
    "'juventude','santo andre','paulista','goias','ceara','botafogo','sao paulo',\n",
    "'cruzeiro','palmeiras',\"cruzeiro\",'gremio','palmeiras','flamengo','corinthias',\n",
    "'internacional',\n",
    "'fluminense','sport','vasco','atletico mineiro','atletico paranaense',\n",
    "'juventude','santo andre','paulista','goias','ceara','botafogo','sao paulo',\n",
    "'cruzeiro','palmeiras',\"cruzeiro\",'gremio','palmeiras','flamengo','corinthias',\n",
    "'internacional',\n",
    "'fluminense','sport','vasco','atletico mineiro','atletico paranaense',\n",
    "'juventude','santo andre','paulista','goias','ceara','botafogo','sao paulo',\n",
    "'cruzeiro','palmeiras','sport','vasco','atletico mineiro','atletico paranaense',\n",
    "'juventude','santo andre','paulista','goias','ceara','botafogo','sao paulo',\n",
    "'cruzeiro','palmeiras',\"cruzeiro\",'gremio','palmeiras',\"cruzeiro\",'gremio',\n",
    "'palmeiras','flamengo','corinthias','internacional',\n",
    "'fluminense','sport','vasco','atletico mineiro','atletico paranaense',\n",
    "'juventude','santo andre','paulista','goias','ceara','botafogo','sao paulo',\n",
    "'cruzeiro','palmeiras',\"cruzeiro\",'gremio','palmeiras','flamengo',\n",
    "'corinthias','internacional',\n",
    "'fluminense','sport','vasco','atletico mineiro']\n",
    "\n",
    "set_cup = set(cup)\n",
    "#conjunto.\n",
    "set_cup_campeões = set(set_cup)\n",
    "#conjunto dos campeões da copa do brasil.\n",
    "\n"
   ]
  },
  {
   "cell_type": "code",
   "execution_count": 4,
   "id": "peripheral-pixel",
   "metadata": {},
   "outputs": [
    {
     "data": {
      "text/plain": [
       "{'atletico mineiro',\n",
       " 'atletico paranaense',\n",
       " 'botafogo',\n",
       " 'ceara',\n",
       " 'corinthias',\n",
       " 'cruzeiro',\n",
       " 'flamengo',\n",
       " 'fluminense',\n",
       " 'goias',\n",
       " 'gremio',\n",
       " 'internacional',\n",
       " 'juventude',\n",
       " 'palmeiras',\n",
       " 'paulista',\n",
       " 'santo andre',\n",
       " 'sao paulo',\n",
       " 'sport',\n",
       " 'vasco'}"
      ]
     },
     "execution_count": 4,
     "metadata": {},
     "output_type": "execute_result"
    }
   ],
   "source": [
    "#INTERRUPÇÃO\n",
    "\n",
    "set_cup.intersection(set_cup_campeões)\n"
   ]
  },
  {
   "cell_type": "code",
   "execution_count": 5,
   "id": "swiss-pocket",
   "metadata": {},
   "outputs": [
    {
     "data": {
      "text/plain": [
       "{'atletico mineiro',\n",
       " 'atletico paranaense',\n",
       " 'botafogo',\n",
       " 'ceara',\n",
       " 'corinthias',\n",
       " 'cruzeiro',\n",
       " 'flamengo',\n",
       " 'fluminense',\n",
       " 'goias',\n",
       " 'gremio',\n",
       " 'internacional',\n",
       " 'juventude',\n",
       " 'palmeiras',\n",
       " 'paulista',\n",
       " 'santo andre',\n",
       " 'sao paulo',\n",
       " 'sport',\n",
       " 'vasco'}"
      ]
     },
     "execution_count": 5,
     "metadata": {},
     "output_type": "execute_result"
    }
   ],
   "source": [
    "#em vez do intersection posso usar o &\n",
    "\n",
    "set_cup & set_cup_campeões"
   ]
  },
  {
   "cell_type": "code",
   "execution_count": 6,
   "id": "labeled-given",
   "metadata": {},
   "outputs": [
    {
     "name": "stdout",
     "output_type": "stream",
     "text": [
      "{1, 2, 3, 4, 5, 24}\n"
     ]
    }
   ],
   "source": [
    "#transformando em uma lista com itens unicos\n",
    "\n",
    "item = [1,1,1,1,1,2,2,2,24,4,4,5,5,5,3]\n",
    "\n",
    "itemset = set(item)\n",
    "\n",
    "print(itemset)\n",
    "\n",
    "#com esse set conseguirei uma lista mais organizada."
   ]
  },
  {
   "cell_type": "code",
   "execution_count": null,
   "id": "worst-singer",
   "metadata": {},
   "outputs": [],
   "source": []
  }
 ],
 "metadata": {
  "kernelspec": {
   "display_name": "Python 3",
   "language": "python",
   "name": "python3"
  },
  "language_info": {
   "codemirror_mode": {
    "name": "ipython",
    "version": 3
   },
   "file_extension": ".py",
   "mimetype": "text/x-python",
   "name": "python",
   "nbconvert_exporter": "python",
   "pygments_lexer": "ipython3",
   "version": "3.9.1"
  }
 },
 "nbformat": 4,
 "nbformat_minor": 5
}
