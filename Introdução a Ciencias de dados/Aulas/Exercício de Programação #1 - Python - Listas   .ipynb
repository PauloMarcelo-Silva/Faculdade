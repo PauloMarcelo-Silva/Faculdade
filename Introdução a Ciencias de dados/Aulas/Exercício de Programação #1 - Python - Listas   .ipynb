{
 "cells": [
  {
   "cell_type": "code",
   "execution_count": 1,
   "id": "little-visiting",
   "metadata": {},
   "outputs": [],
   "source": [
    "top_10 = [\"Tones and I - Dance Monkey\", \"Lady Gaga, Ariana Grande - Rain on Me\",\n",
    "          \"Justin Bieber - Yummy\", \"MISCHO - Photon Love\", \"Dua Lipa - Break My Heart\",\n",
    "          \"Lady Gaga, BLACKPINK - Sour Candy\", \"Dua Lipa - Don't Start Now\",\n",
    "          \"Justin Bieber, Quavo - Intentions\", \"Doja Cat - Say So\",\n",
    "          \"Karol G, Nicki Minaj - Tusa\", \"Benee, Gus Dapperton - Supalonely\"]"
   ]
  },
  {
   "cell_type": "code",
   "execution_count": 2,
   "id": "premium-feeding",
   "metadata": {},
   "outputs": [
    {
     "data": {
      "text/plain": [
       "[{'artist': 'Tones and I', 'song': 'Dance Monkey'},\n",
       " {'artist': 'Lady Gaga, Ariana Grande', 'song': 'Rain on Me'},\n",
       " {'artist': 'Justin Bieber', 'song': 'Yummy'},\n",
       " {'artist': 'MISCHO', 'song': 'Photon Love'},\n",
       " {'artist': 'Dua Lipa', 'song': 'Break My Heart'},\n",
       " {'artist': 'Lady Gaga, BLACKPINK', 'song': 'Sour Candy'},\n",
       " {'artist': 'Dua Lipa', 'song': \"Don't Start Now\"},\n",
       " {'artist': 'Justin Bieber, Quavo', 'song': 'Intentions'},\n",
       " {'artist': 'Doja Cat', 'song': 'Say So'},\n",
       " {'artist': 'Karol G, Nicki Minaj', 'song': 'Tusa'},\n",
       " {'artist': 'Benee, Gus Dapperton', 'song': 'Supalonely'}]"
      ]
     },
     "execution_count": 2,
     "metadata": {},
     "output_type": "execute_result"
    }
   ],
   "source": [
    "top_10_dict = [{\"artist\": x.split(\" - \")[0], \"song\": x.split(\" - \")[1]} for x in top_10]\n",
    "top_10_dict"
   ]
  },
  {
   "cell_type": "code",
   "execution_count": 42,
   "id": "social-edgar",
   "metadata": {},
   "outputs": [],
   "source": [
    "def get_songs(musica):\n",
    "    musicas = []\n",
    "    for a in range(len(musica)):\n",
    "        musicas.append(musica[a]['song'])\n",
    "    return musicas"
   ]
  },
  {
   "cell_type": "code",
   "execution_count": 43,
   "id": "federal-transport",
   "metadata": {},
   "outputs": [
    {
     "data": {
      "text/plain": [
       "['Dance Monkey',\n",
       " 'Rain on Me',\n",
       " 'Yummy',\n",
       " 'Photon Love',\n",
       " 'Break My Heart',\n",
       " 'Sour Candy',\n",
       " \"Don't Start Now\",\n",
       " 'Intentions',\n",
       " 'Say So',\n",
       " 'Tusa',\n",
       " 'Supalonely']"
      ]
     },
     "execution_count": 43,
     "metadata": {},
     "output_type": "execute_result"
    }
   ],
   "source": [
    "get_songs(top_10_dict)"
   ]
  },
  {
   "cell_type": "code",
   "execution_count": 44,
   "id": "champion-headline",
   "metadata": {},
   "outputs": [],
   "source": [
    "def get_artists(artista):\n",
    "    artistas = []\n",
    "    for a in range(len(artista)):\n",
    "        artistas.append(artista[a]['artist'])\n",
    "    return artistas"
   ]
  },
  {
   "cell_type": "code",
   "execution_count": 45,
   "id": "sunrise-oxford",
   "metadata": {},
   "outputs": [
    {
     "data": {
      "text/plain": [
       "['Tones and I',\n",
       " 'Lady Gaga, Ariana Grande',\n",
       " 'Justin Bieber',\n",
       " 'MISCHO',\n",
       " 'Dua Lipa',\n",
       " 'Lady Gaga, BLACKPINK',\n",
       " 'Dua Lipa',\n",
       " 'Justin Bieber, Quavo',\n",
       " 'Doja Cat',\n",
       " 'Karol G, Nicki Minaj',\n",
       " 'Benee, Gus Dapperton']"
      ]
     },
     "execution_count": 45,
     "metadata": {},
     "output_type": "execute_result"
    }
   ],
   "source": [
    "get_artists(top_10_dict)"
   ]
  },
  {
   "cell_type": "code",
   "execution_count": null,
   "id": "democratic-consideration",
   "metadata": {},
   "outputs": [],
   "source": []
  }
 ],
 "metadata": {
  "kernelspec": {
   "display_name": "Python 3",
   "language": "python",
   "name": "python3"
  },
  "language_info": {
   "codemirror_mode": {
    "name": "ipython",
    "version": 3
   },
   "file_extension": ".py",
   "mimetype": "text/x-python",
   "name": "python",
   "nbconvert_exporter": "python",
   "pygments_lexer": "ipython3",
   "version": "3.9.1"
  }
 },
 "nbformat": 4,
 "nbformat_minor": 5
}
