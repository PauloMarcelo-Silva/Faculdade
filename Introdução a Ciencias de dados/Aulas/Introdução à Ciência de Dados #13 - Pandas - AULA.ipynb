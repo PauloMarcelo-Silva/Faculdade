{
 "cells": [
  {
   "cell_type": "markdown",
   "id": "primary-helena",
   "metadata": {},
   "source": [
    "pandas é uma biblioteca q possibilita a criação e manipulação de dataframe,que são arrays multidimensionais\n",
    "com rotulos nas linhas e nas colunas uma estrutura semelhante a uma tabela.\n"
   ]
  },
  {
   "cell_type": "markdown",
   "id": "surgical-photographer",
   "metadata": {},
   "source": [
    "\"MULTIDIMENSIONAIS\"\n",
    "-É UMA FORMA REPRESENTATIVA DO CRUZAMENTO DE INFORMAÇÕES"
   ]
  },
  {
   "cell_type": "markdown",
   "id": "persistent-tournament",
   "metadata": {},
   "source": [
    "COSTUMA SER IMPORTADO DA SEGUINTE FORMA O PANDAS"
   ]
  },
  {
   "cell_type": "code",
   "execution_count": 5,
   "id": "musical-patrol",
   "metadata": {},
   "outputs": [],
   "source": [
    "import pandas as pd"
   ]
  },
  {
   "cell_type": "markdown",
   "id": "great-frederick",
   "metadata": {},
   "source": [
    "SERIES"
   ]
  },
  {
   "cell_type": "markdown",
   "id": "sound-messaging",
   "metadata": {},
   "source": [
    "a classe series implementa um array uni dimensional"
   ]
  },
  {
   "cell_type": "code",
   "execution_count": 6,
   "id": "independent-circumstances",
   "metadata": {},
   "outputs": [
    {
     "data": {
      "text/plain": [
       "0    1.5\n",
       "1    2.5\n",
       "2    3.5\n",
       "3    4.5\n",
       "4    5.5\n",
       "dtype: float64"
      ]
     },
     "execution_count": 6,
     "metadata": {},
     "output_type": "execute_result"
    }
   ],
   "source": [
    "import pandas as pd\n",
    "data = pd.Series([1.5, 2.5, 3.5, 4.5, 5.5])\n",
    "data"
   ]
  },
  {
   "cell_type": "markdown",
   "id": "vocal-australia",
   "metadata": {},
   "source": [
    "acessando os valores e indices de uma Series"
   ]
  },
  {
   "cell_type": "code",
   "execution_count": 7,
   "id": "universal-malpractice",
   "metadata": {},
   "outputs": [
    {
     "data": {
      "text/plain": [
       "RangeIndex(start=0, stop=5, step=1)"
      ]
     },
     "execution_count": 7,
     "metadata": {},
     "output_type": "execute_result"
    }
   ],
   "source": [
    "data.index"
   ]
  },
  {
   "cell_type": "code",
   "execution_count": 8,
   "id": "negative-essex",
   "metadata": {},
   "outputs": [
    {
     "data": {
      "text/plain": [
       "array([1.5, 2.5, 3.5, 4.5, 5.5])"
      ]
     },
     "execution_count": 8,
     "metadata": {},
     "output_type": "execute_result"
    }
   ],
   "source": [
    "data.values"
   ]
  },
  {
   "cell_type": "code",
   "execution_count": 9,
   "id": "naked-chambers",
   "metadata": {},
   "outputs": [
    {
     "data": {
      "text/plain": [
       "1.5"
      ]
     },
     "execution_count": 9,
     "metadata": {},
     "output_type": "execute_result"
    }
   ],
   "source": [
    "data[0]"
   ]
  },
  {
   "cell_type": "code",
   "execution_count": 10,
   "id": "center-carpet",
   "metadata": {},
   "outputs": [
    {
     "data": {
      "text/plain": [
       "2    3.5\n",
       "3    4.5\n",
       "4    5.5\n",
       "dtype: float64"
      ]
     },
     "execution_count": 10,
     "metadata": {},
     "output_type": "execute_result"
    }
   ],
   "source": [
    "data[2:5]"
   ]
  },
  {
   "cell_type": "markdown",
   "id": "presidential-institution",
   "metadata": {},
   "source": [
    "uma series pode ter indices que não são números"
   ]
  },
  {
   "cell_type": "code",
   "execution_count": 11,
   "id": "swedish-wichita",
   "metadata": {},
   "outputs": [
    {
     "data": {
      "text/plain": [
       "a    1\n",
       "b    2\n",
       "c    3\n",
       "d    4\n",
       "e    5\n",
       "dtype: int64"
      ]
     },
     "execution_count": 11,
     "metadata": {},
     "output_type": "execute_result"
    }
   ],
   "source": [
    "data = pd.Series([1,2,3,4,5],index = [\"a\",\"b\",\"c\",\"d\",\"e\"])\n",
    "data"
   ]
  },
  {
   "cell_type": "code",
   "execution_count": 12,
   "id": "dated-arrow",
   "metadata": {},
   "outputs": [
    {
     "data": {
      "text/plain": [
       "1"
      ]
     },
     "execution_count": 12,
     "metadata": {},
     "output_type": "execute_result"
    }
   ],
   "source": [
    "data[\"a\"]"
   ]
  },
  {
   "cell_type": "code",
   "execution_count": 13,
   "id": "prime-profit",
   "metadata": {},
   "outputs": [
    {
     "data": {
      "text/plain": [
       "a    1\n",
       "b    2\n",
       "c    3\n",
       "d    4\n",
       "dtype: int64"
      ]
     },
     "execution_count": 13,
     "metadata": {},
     "output_type": "execute_result"
    }
   ],
   "source": [
    "data[\"a\":\"d\"]"
   ]
  },
  {
   "cell_type": "markdown",
   "id": "responsible-version",
   "metadata": {},
   "source": [
    "podemos criar Series apartir de dicionarios"
   ]
  },
  {
   "cell_type": "code",
   "execution_count": 14,
   "id": "capital-prayer",
   "metadata": {},
   "outputs": [],
   "source": [
    "population_dict = {\"joão pessoa\":235456,\n",
    "             \"recife\":32567,\n",
    "             \"guarulhos\":56378768,\n",
    "             \"são paulo\":325546464,\n",
    "             \"alagoas\":876576}"
   ]
  },
  {
   "cell_type": "code",
   "execution_count": 15,
   "id": "derived-sheet",
   "metadata": {},
   "outputs": [
    {
     "data": {
      "text/plain": [
       "joão pessoa       235456\n",
       "recife             32567\n",
       "guarulhos       56378768\n",
       "são paulo      325546464\n",
       "alagoas           876576\n",
       "dtype: int64"
      ]
     },
     "execution_count": 15,
     "metadata": {},
     "output_type": "execute_result"
    }
   ],
   "source": [
    "population = pd.Series(population_dict)\n",
    "population"
   ]
  },
  {
   "cell_type": "markdown",
   "id": "historical-shipping",
   "metadata": {},
   "source": [
    "DATA frama"
   ]
  },
  {
   "cell_type": "markdown",
   "id": "answering-occupation",
   "metadata": {},
   "source": [
    "a clase data frama é uma estrutura semelhante a uma tabela,\n",
    "podemos entender como uma sequencia de Series que compartilham\n",
    "um mesmo indice"
   ]
  },
  {
   "cell_type": "code",
   "execution_count": 16,
   "id": "inside-gazette",
   "metadata": {},
   "outputs": [
    {
     "data": {
      "text/plain": [
       "joão pessoa      5354653\n",
       "recife            656577\n",
       "guarulhos       67513412\n",
       "são paulo      245345434\n",
       "alagoas         98724524\n",
       "dtype: int64"
      ]
     },
     "execution_count": 16,
     "metadata": {},
     "output_type": "execute_result"
    }
   ],
   "source": [
    "area_dict = {\"joão pessoa\":5354653,\n",
    "             \"recife\":656577,\n",
    "             \"guarulhos\":67513412,\n",
    "             \"são paulo\":245345434,\n",
    "             \"alagoas\":98724524}\n",
    "\n",
    "area = pd.Series(area_dict)\n",
    "area"
   ]
  },
  {
   "cell_type": "markdown",
   "id": "sublime-merchant",
   "metadata": {},
   "source": [
    "\"podemos notar q population_dict e area_dict possuem as mesmas chaves\""
   ]
  },
  {
   "cell_type": "code",
   "execution_count": 17,
   "id": "changing-klein",
   "metadata": {},
   "outputs": [
    {
     "data": {
      "text/html": [
       "<div>\n",
       "<style scoped>\n",
       "    .dataframe tbody tr th:only-of-type {\n",
       "        vertical-align: middle;\n",
       "    }\n",
       "\n",
       "    .dataframe tbody tr th {\n",
       "        vertical-align: top;\n",
       "    }\n",
       "\n",
       "    .dataframe thead th {\n",
       "        text-align: right;\n",
       "    }\n",
       "</style>\n",
       "<table border=\"1\" class=\"dataframe\">\n",
       "  <thead>\n",
       "    <tr style=\"text-align: right;\">\n",
       "      <th></th>\n",
       "      <th>population</th>\n",
       "      <th>area</th>\n",
       "    </tr>\n",
       "  </thead>\n",
       "  <tbody>\n",
       "    <tr>\n",
       "      <th>joão pessoa</th>\n",
       "      <td>235456</td>\n",
       "      <td>5354653</td>\n",
       "    </tr>\n",
       "    <tr>\n",
       "      <th>recife</th>\n",
       "      <td>32567</td>\n",
       "      <td>656577</td>\n",
       "    </tr>\n",
       "    <tr>\n",
       "      <th>guarulhos</th>\n",
       "      <td>56378768</td>\n",
       "      <td>67513412</td>\n",
       "    </tr>\n",
       "    <tr>\n",
       "      <th>são paulo</th>\n",
       "      <td>325546464</td>\n",
       "      <td>245345434</td>\n",
       "    </tr>\n",
       "    <tr>\n",
       "      <th>alagoas</th>\n",
       "      <td>876576</td>\n",
       "      <td>98724524</td>\n",
       "    </tr>\n",
       "  </tbody>\n",
       "</table>\n",
       "</div>"
      ],
      "text/plain": [
       "             population       area\n",
       "joão pessoa      235456    5354653\n",
       "recife            32567     656577\n",
       "guarulhos      56378768   67513412\n",
       "são paulo     325546464  245345434\n",
       "alagoas          876576   98724524"
      ]
     },
     "execution_count": 17,
     "metadata": {},
     "output_type": "execute_result"
    }
   ],
   "source": [
    "states = pd.DataFrame({\"population\": population,\"area\": area})\n",
    "states"
   ]
  },
  {
   "cell_type": "markdown",
   "id": "southern-amount",
   "metadata": {},
   "source": [
    "os data frames possuem valores,indices e colunas"
   ]
  },
  {
   "cell_type": "code",
   "execution_count": 18,
   "id": "appreciated-consensus",
   "metadata": {},
   "outputs": [
    {
     "data": {
      "text/plain": [
       "array([[   235456,   5354653],\n",
       "       [    32567,    656577],\n",
       "       [ 56378768,  67513412],\n",
       "       [325546464, 245345434],\n",
       "       [   876576,  98724524]], dtype=int64)"
      ]
     },
     "execution_count": 18,
     "metadata": {},
     "output_type": "execute_result"
    }
   ],
   "source": [
    "states.values"
   ]
  },
  {
   "cell_type": "code",
   "execution_count": 19,
   "id": "ambient-comfort",
   "metadata": {},
   "outputs": [
    {
     "data": {
      "text/plain": [
       "Index(['joão pessoa', 'recife', 'guarulhos', 'são paulo', 'alagoas'], dtype='object')"
      ]
     },
     "execution_count": 19,
     "metadata": {},
     "output_type": "execute_result"
    }
   ],
   "source": [
    "states.index"
   ]
  },
  {
   "cell_type": "code",
   "execution_count": 20,
   "id": "innocent-casino",
   "metadata": {},
   "outputs": [
    {
     "data": {
      "text/plain": [
       "Index(['population', 'area'], dtype='object')"
      ]
     },
     "execution_count": 20,
     "metadata": {},
     "output_type": "execute_result"
    }
   ],
   "source": [
    "states.columns"
   ]
  },
  {
   "cell_type": "markdown",
   "id": "religious-connecticut",
   "metadata": {},
   "source": [
    "os dataframes mapeiam as colunas para uma series,assim,através do nome \"columns\",assim nos acessamos suas series correspondentes"
   ]
  },
  {
   "cell_type": "code",
   "execution_count": 21,
   "id": "brutal-wisconsin",
   "metadata": {},
   "outputs": [
    {
     "data": {
      "text/plain": [
       "joão pessoa      5354653\n",
       "recife            656577\n",
       "guarulhos       67513412\n",
       "são paulo      245345434\n",
       "alagoas         98724524\n",
       "Name: area, dtype: int64"
      ]
     },
     "execution_count": 21,
     "metadata": {},
     "output_type": "execute_result"
    }
   ],
   "source": [
    "states[\"area\"]"
   ]
  },
  {
   "cell_type": "markdown",
   "id": "brazilian-dodge",
   "metadata": {},
   "source": [
    "podemos construir um data frame apartir de uma array bidimensional,o array corresponde aos valores"
   ]
  },
  {
   "cell_type": "code",
   "execution_count": 22,
   "id": "configured-participation",
   "metadata": {},
   "outputs": [
    {
     "data": {
      "text/html": [
       "<div>\n",
       "<style scoped>\n",
       "    .dataframe tbody tr th:only-of-type {\n",
       "        vertical-align: middle;\n",
       "    }\n",
       "\n",
       "    .dataframe tbody tr th {\n",
       "        vertical-align: top;\n",
       "    }\n",
       "\n",
       "    .dataframe thead th {\n",
       "        text-align: right;\n",
       "    }\n",
       "</style>\n",
       "<table border=\"1\" class=\"dataframe\">\n",
       "  <thead>\n",
       "    <tr style=\"text-align: right;\">\n",
       "      <th></th>\n",
       "      <th>0</th>\n",
       "      <th>1</th>\n",
       "      <th>2</th>\n",
       "    </tr>\n",
       "  </thead>\n",
       "  <tbody>\n",
       "    <tr>\n",
       "      <th>0</th>\n",
       "      <td>0.199528</td>\n",
       "      <td>0.873127</td>\n",
       "      <td>0.836204</td>\n",
       "    </tr>\n",
       "    <tr>\n",
       "      <th>1</th>\n",
       "      <td>0.397857</td>\n",
       "      <td>0.589600</td>\n",
       "      <td>0.125504</td>\n",
       "    </tr>\n",
       "    <tr>\n",
       "      <th>2</th>\n",
       "      <td>0.663428</td>\n",
       "      <td>0.560580</td>\n",
       "      <td>0.022374</td>\n",
       "    </tr>\n",
       "  </tbody>\n",
       "</table>\n",
       "</div>"
      ],
      "text/plain": [
       "          0         1         2\n",
       "0  0.199528  0.873127  0.836204\n",
       "1  0.397857  0.589600  0.125504\n",
       "2  0.663428  0.560580  0.022374"
      ]
     },
     "execution_count": 22,
     "metadata": {},
     "output_type": "execute_result"
    }
   ],
   "source": [
    "import numpy as np\n",
    "data = np.random.random((3,3))\n",
    "pd.DataFrame(data)\n"
   ]
  },
  {
   "cell_type": "code",
   "execution_count": 23,
   "id": "identified-mainland",
   "metadata": {},
   "outputs": [
    {
     "data": {
      "text/plain": [
       "array([[0.19952775, 0.87312743, 0.83620404],\n",
       "       [0.39785706, 0.58959965, 0.12550416],\n",
       "       [0.66342751, 0.56058044, 0.02237434]])"
      ]
     },
     "execution_count": 23,
     "metadata": {},
     "output_type": "execute_result"
    }
   ],
   "source": [
    "data"
   ]
  },
  {
   "cell_type": "markdown",
   "id": "developed-bristol",
   "metadata": {},
   "source": [
    "para definir os indeces e colunas usamos:"
   ]
  },
  {
   "cell_type": "code",
   "execution_count": 24,
   "id": "authentic-session",
   "metadata": {},
   "outputs": [
    {
     "data": {
      "text/html": [
       "<div>\n",
       "<style scoped>\n",
       "    .dataframe tbody tr th:only-of-type {\n",
       "        vertical-align: middle;\n",
       "    }\n",
       "\n",
       "    .dataframe tbody tr th {\n",
       "        vertical-align: top;\n",
       "    }\n",
       "\n",
       "    .dataframe thead th {\n",
       "        text-align: right;\n",
       "    }\n",
       "</style>\n",
       "<table border=\"1\" class=\"dataframe\">\n",
       "  <thead>\n",
       "    <tr style=\"text-align: right;\">\n",
       "      <th></th>\n",
       "      <th>a</th>\n",
       "      <th>b</th>\n",
       "      <th>c</th>\n",
       "    </tr>\n",
       "  </thead>\n",
       "  <tbody>\n",
       "    <tr>\n",
       "      <th>x</th>\n",
       "      <td>0.199528</td>\n",
       "      <td>0.873127</td>\n",
       "      <td>0.836204</td>\n",
       "    </tr>\n",
       "    <tr>\n",
       "      <th>y</th>\n",
       "      <td>0.397857</td>\n",
       "      <td>0.589600</td>\n",
       "      <td>0.125504</td>\n",
       "    </tr>\n",
       "    <tr>\n",
       "      <th>z</th>\n",
       "      <td>0.663428</td>\n",
       "      <td>0.560580</td>\n",
       "      <td>0.022374</td>\n",
       "    </tr>\n",
       "  </tbody>\n",
       "</table>\n",
       "</div>"
      ],
      "text/plain": [
       "          a         b         c\n",
       "x  0.199528  0.873127  0.836204\n",
       "y  0.397857  0.589600  0.125504\n",
       "z  0.663428  0.560580  0.022374"
      ]
     },
     "execution_count": 24,
     "metadata": {},
     "output_type": "execute_result"
    }
   ],
   "source": [
    "pd.DataFrame(data,columns = [\"a\",\"b\",\"c\"],index =[\"x\",\"y\",\"z\"] )"
   ]
  },
  {
   "cell_type": "markdown",
   "id": "approximate-robin",
   "metadata": {},
   "source": [
    "INDEXAÇÃO"
   ]
  },
  {
   "cell_type": "code",
   "execution_count": 25,
   "id": "aging-child",
   "metadata": {},
   "outputs": [],
   "source": [
    "data = pd.Series ([1,2,3,4,5],\n",
    "                 [2,4,6,8,10])"
   ]
  },
  {
   "cell_type": "code",
   "execution_count": 26,
   "id": "searching-parking",
   "metadata": {},
   "outputs": [
    {
     "data": {
      "text/plain": [
       "2     1\n",
       "4     2\n",
       "6     3\n",
       "8     4\n",
       "10    5\n",
       "dtype: int64"
      ]
     },
     "execution_count": 26,
     "metadata": {},
     "output_type": "execute_result"
    }
   ],
   "source": [
    "data"
   ]
  },
  {
   "cell_type": "code",
   "execution_count": 27,
   "id": "typical-collar",
   "metadata": {},
   "outputs": [
    {
     "data": {
      "text/plain": [
       "4    2\n",
       "6    3\n",
       "8    4\n",
       "dtype: int64"
      ]
     },
     "execution_count": 27,
     "metadata": {},
     "output_type": "execute_result"
    }
   ],
   "source": [
    "data[1:4]"
   ]
  },
  {
   "cell_type": "markdown",
   "id": "pending-greene",
   "metadata": {},
   "source": [
    "para não ter ambiguidade, o pandas fornece dois atributos para diferenciar o numero da linha do valor do indice \".loc\",referenciando o indece\n",
    "real e o \".iloc\" referenciando ao indice linha"
   ]
  },
  {
   "cell_type": "code",
   "execution_count": 28,
   "id": "fabulous-algorithm",
   "metadata": {},
   "outputs": [
    {
     "data": {
      "text/plain": [
       "1"
      ]
     },
     "execution_count": 28,
     "metadata": {},
     "output_type": "execute_result"
    }
   ],
   "source": [
    "data.loc[2]"
   ]
  },
  {
   "cell_type": "code",
   "execution_count": 29,
   "id": "loaded-walter",
   "metadata": {},
   "outputs": [
    {
     "data": {
      "text/plain": [
       "2"
      ]
     },
     "execution_count": 29,
     "metadata": {},
     "output_type": "execute_result"
    }
   ],
   "source": [
    "data.loc[4]"
   ]
  },
  {
   "cell_type": "code",
   "execution_count": 30,
   "id": "developed-panama",
   "metadata": {},
   "outputs": [
    {
     "data": {
      "text/plain": [
       "2"
      ]
     },
     "execution_count": 30,
     "metadata": {},
     "output_type": "execute_result"
    }
   ],
   "source": [
    "data.iloc[1]"
   ]
  },
  {
   "cell_type": "code",
   "execution_count": 31,
   "id": "apparent-fifteen",
   "metadata": {},
   "outputs": [
    {
     "data": {
      "text/plain": [
       "5"
      ]
     },
     "execution_count": 31,
     "metadata": {},
     "output_type": "execute_result"
    }
   ],
   "source": [
    "data.iloc[4]"
   ]
  },
  {
   "cell_type": "code",
   "execution_count": 32,
   "id": "arbitrary-budget",
   "metadata": {},
   "outputs": [
    {
     "data": {
      "text/plain": [
       "2    1\n",
       "4    2\n",
       "dtype: int64"
      ]
     },
     "execution_count": 32,
     "metadata": {},
     "output_type": "execute_result"
    }
   ],
   "source": [
    "data.loc[2:4]"
   ]
  },
  {
   "cell_type": "markdown",
   "id": "raising-albany",
   "metadata": {},
   "source": [
    "ACESSANDO COLUNAS NO DATA FRAME"
   ]
  },
  {
   "cell_type": "code",
   "execution_count": 33,
   "id": "optional-announcement",
   "metadata": {},
   "outputs": [
    {
     "data": {
      "text/plain": [
       "joão pessoa      5354653\n",
       "recife            656577\n",
       "guarulhos       67513412\n",
       "são paulo      245345434\n",
       "alagoas         98724524\n",
       "Name: area, dtype: int64"
      ]
     },
     "execution_count": 33,
     "metadata": {},
     "output_type": "execute_result"
    }
   ],
   "source": [
    "states [\"area\"]"
   ]
  },
  {
   "cell_type": "code",
   "execution_count": 34,
   "id": "naked-juvenile",
   "metadata": {},
   "outputs": [
    {
     "data": {
      "text/plain": [
       "joão pessoa       235456\n",
       "recife             32567\n",
       "guarulhos       56378768\n",
       "são paulo      325546464\n",
       "alagoas           876576\n",
       "Name: population, dtype: int64"
      ]
     },
     "execution_count": 34,
     "metadata": {},
     "output_type": "execute_result"
    }
   ],
   "source": [
    "states[\"population\"]"
   ]
  },
  {
   "cell_type": "markdown",
   "id": "little-repair",
   "metadata": {},
   "source": [
    "para modificar colunas utilizamos operadores de atribuição"
   ]
  },
  {
   "cell_type": "code",
   "execution_count": 35,
   "id": "noble-gates",
   "metadata": {},
   "outputs": [],
   "source": [
    "states [\"area\"] = pd.Series({\"joão pessoa\":211.5,\n",
    "                            \"recife\":218.3,\n",
    "                            \"guarulhos\":319.2,\n",
    "                            \"são paulo\":152.300,\n",
    "                            \"alagoas\":27.768})"
   ]
  },
  {
   "cell_type": "markdown",
   "id": "modular-tumor",
   "metadata": {},
   "source": [
    "states"
   ]
  },
  {
   "cell_type": "markdown",
   "id": "medieval-truck",
   "metadata": {},
   "source": [
    "ou criar uma coluna nova"
   ]
  },
  {
   "cell_type": "code",
   "execution_count": 37,
   "id": "fundamental-mason",
   "metadata": {},
   "outputs": [],
   "source": [
    "states[\"density\"] = states[\"population\"] / states[\"area\"]"
   ]
  },
  {
   "cell_type": "code",
   "execution_count": 38,
   "id": "according-earthquake",
   "metadata": {
    "scrolled": true
   },
   "outputs": [
    {
     "data": {
      "text/html": [
       "<div>\n",
       "<style scoped>\n",
       "    .dataframe tbody tr th:only-of-type {\n",
       "        vertical-align: middle;\n",
       "    }\n",
       "\n",
       "    .dataframe tbody tr th {\n",
       "        vertical-align: top;\n",
       "    }\n",
       "\n",
       "    .dataframe thead th {\n",
       "        text-align: right;\n",
       "    }\n",
       "</style>\n",
       "<table border=\"1\" class=\"dataframe\">\n",
       "  <thead>\n",
       "    <tr style=\"text-align: right;\">\n",
       "      <th></th>\n",
       "      <th>population</th>\n",
       "      <th>area</th>\n",
       "      <th>density</th>\n",
       "    </tr>\n",
       "  </thead>\n",
       "  <tbody>\n",
       "    <tr>\n",
       "      <th>joão pessoa</th>\n",
       "      <td>235456</td>\n",
       "      <td>211.500</td>\n",
       "      <td>1.113267e+03</td>\n",
       "    </tr>\n",
       "    <tr>\n",
       "      <th>recife</th>\n",
       "      <td>32567</td>\n",
       "      <td>218.300</td>\n",
       "      <td>1.491846e+02</td>\n",
       "    </tr>\n",
       "    <tr>\n",
       "      <th>guarulhos</th>\n",
       "      <td>56378768</td>\n",
       "      <td>319.200</td>\n",
       "      <td>1.766252e+05</td>\n",
       "    </tr>\n",
       "    <tr>\n",
       "      <th>são paulo</th>\n",
       "      <td>325546464</td>\n",
       "      <td>152.300</td>\n",
       "      <td>2.137534e+06</td>\n",
       "    </tr>\n",
       "    <tr>\n",
       "      <th>alagoas</th>\n",
       "      <td>876576</td>\n",
       "      <td>27.768</td>\n",
       "      <td>3.156785e+04</td>\n",
       "    </tr>\n",
       "  </tbody>\n",
       "</table>\n",
       "</div>"
      ],
      "text/plain": [
       "             population     area       density\n",
       "joão pessoa      235456  211.500  1.113267e+03\n",
       "recife            32567  218.300  1.491846e+02\n",
       "guarulhos      56378768  319.200  1.766252e+05\n",
       "são paulo     325546464  152.300  2.137534e+06\n",
       "alagoas          876576   27.768  3.156785e+04"
      ]
     },
     "execution_count": 38,
     "metadata": {},
     "output_type": "execute_result"
    }
   ],
   "source": [
    "states"
   ]
  },
  {
   "cell_type": "markdown",
   "id": "affected-recipe",
   "metadata": {},
   "source": [
    "para eu inverter as linhas e colunas basta eu:"
   ]
  },
  {
   "cell_type": "code",
   "execution_count": 40,
   "id": "accredited-pacific",
   "metadata": {},
   "outputs": [
    {
     "data": {
      "text/html": [
       "<div>\n",
       "<style scoped>\n",
       "    .dataframe tbody tr th:only-of-type {\n",
       "        vertical-align: middle;\n",
       "    }\n",
       "\n",
       "    .dataframe tbody tr th {\n",
       "        vertical-align: top;\n",
       "    }\n",
       "\n",
       "    .dataframe thead th {\n",
       "        text-align: right;\n",
       "    }\n",
       "</style>\n",
       "<table border=\"1\" class=\"dataframe\">\n",
       "  <thead>\n",
       "    <tr style=\"text-align: right;\">\n",
       "      <th></th>\n",
       "      <th>joão pessoa</th>\n",
       "      <th>recife</th>\n",
       "      <th>guarulhos</th>\n",
       "      <th>são paulo</th>\n",
       "      <th>alagoas</th>\n",
       "    </tr>\n",
       "  </thead>\n",
       "  <tbody>\n",
       "    <tr>\n",
       "      <th>population</th>\n",
       "      <td>235456.000000</td>\n",
       "      <td>32567.000000</td>\n",
       "      <td>5.637877e+07</td>\n",
       "      <td>3.255465e+08</td>\n",
       "      <td>876576.000000</td>\n",
       "    </tr>\n",
       "    <tr>\n",
       "      <th>area</th>\n",
       "      <td>211.500000</td>\n",
       "      <td>218.300000</td>\n",
       "      <td>3.192000e+02</td>\n",
       "      <td>1.523000e+02</td>\n",
       "      <td>27.768000</td>\n",
       "    </tr>\n",
       "    <tr>\n",
       "      <th>density</th>\n",
       "      <td>1113.267139</td>\n",
       "      <td>149.184608</td>\n",
       "      <td>1.766252e+05</td>\n",
       "      <td>2.137534e+06</td>\n",
       "      <td>31567.847882</td>\n",
       "    </tr>\n",
       "  </tbody>\n",
       "</table>\n",
       "</div>"
      ],
      "text/plain": [
       "              joão pessoa        recife     guarulhos     são paulo  \\\n",
       "population  235456.000000  32567.000000  5.637877e+07  3.255465e+08   \n",
       "area           211.500000    218.300000  3.192000e+02  1.523000e+02   \n",
       "density       1113.267139    149.184608  1.766252e+05  2.137534e+06   \n",
       "\n",
       "                  alagoas  \n",
       "population  876576.000000  \n",
       "area            27.768000  \n",
       "density      31567.847882  "
      ]
     },
     "execution_count": 40,
     "metadata": {},
     "output_type": "execute_result"
    }
   ],
   "source": [
    "states.T"
   ]
  },
  {
   "cell_type": "markdown",
   "id": "welsh-knitting",
   "metadata": {},
   "source": [
    "\"MANO NÃO ESQUECE TODAS AS LETRAR INICIAIS DOS MODULOS SÃO EM MAIUSCULAS!\""
   ]
  },
  {
   "cell_type": "markdown",
   "id": "fancy-binary",
   "metadata": {},
   "source": [
    "os atributos \".loc\" e \"i.loc\",tambem funcionam com os Data Frame."
   ]
  },
  {
   "cell_type": "code",
   "execution_count": 42,
   "id": "suspected-hybrid",
   "metadata": {},
   "outputs": [
    {
     "data": {
      "text/plain": [
       "population    235456.000000\n",
       "area             211.500000\n",
       "density         1113.267139\n",
       "Name: joão pessoa, dtype: float64"
      ]
     },
     "execution_count": 42,
     "metadata": {},
     "output_type": "execute_result"
    }
   ],
   "source": [
    "states.loc[\"joão pessoa\"]"
   ]
  },
  {
   "cell_type": "markdown",
   "id": "boring-salon",
   "metadata": {},
   "source": [
    "podemos uasr alguns padrões de acesso exisistentes no numpy"
   ]
  },
  {
   "cell_type": "code",
   "execution_count": 44,
   "id": "dependent-soccer",
   "metadata": {},
   "outputs": [
    {
     "data": {
      "text/html": [
       "<div>\n",
       "<style scoped>\n",
       "    .dataframe tbody tr th:only-of-type {\n",
       "        vertical-align: middle;\n",
       "    }\n",
       "\n",
       "    .dataframe tbody tr th {\n",
       "        vertical-align: top;\n",
       "    }\n",
       "\n",
       "    .dataframe thead th {\n",
       "        text-align: right;\n",
       "    }\n",
       "</style>\n",
       "<table border=\"1\" class=\"dataframe\">\n",
       "  <thead>\n",
       "    <tr style=\"text-align: right;\">\n",
       "      <th></th>\n",
       "      <th>population</th>\n",
       "      <th>area</th>\n",
       "      <th>density</th>\n",
       "    </tr>\n",
       "  </thead>\n",
       "  <tbody>\n",
       "    <tr>\n",
       "      <th>joão pessoa</th>\n",
       "      <td>235456</td>\n",
       "      <td>211.500</td>\n",
       "      <td>1113.267139</td>\n",
       "    </tr>\n",
       "    <tr>\n",
       "      <th>alagoas</th>\n",
       "      <td>876576</td>\n",
       "      <td>27.768</td>\n",
       "      <td>31567.847882</td>\n",
       "    </tr>\n",
       "  </tbody>\n",
       "</table>\n",
       "</div>"
      ],
      "text/plain": [
       "             population     area       density\n",
       "joão pessoa      235456  211.500   1113.267139\n",
       "alagoas          876576   27.768  31567.847882"
      ]
     },
     "execution_count": 44,
     "metadata": {},
     "output_type": "execute_result"
    }
   ],
   "source": [
    "states.loc[[\"joão pessoa\",\"alagoas\"]]"
   ]
  },
  {
   "cell_type": "code",
   "execution_count": 46,
   "id": "parallel-majority",
   "metadata": {},
   "outputs": [
    {
     "data": {
      "text/html": [
       "<div>\n",
       "<style scoped>\n",
       "    .dataframe tbody tr th:only-of-type {\n",
       "        vertical-align: middle;\n",
       "    }\n",
       "\n",
       "    .dataframe tbody tr th {\n",
       "        vertical-align: top;\n",
       "    }\n",
       "\n",
       "    .dataframe thead th {\n",
       "        text-align: right;\n",
       "    }\n",
       "</style>\n",
       "<table border=\"1\" class=\"dataframe\">\n",
       "  <thead>\n",
       "    <tr style=\"text-align: right;\">\n",
       "      <th></th>\n",
       "      <th>population</th>\n",
       "      <th>density</th>\n",
       "    </tr>\n",
       "  </thead>\n",
       "  <tbody>\n",
       "    <tr>\n",
       "      <th>joão pessoa</th>\n",
       "      <td>235456</td>\n",
       "      <td>1.113267e+03</td>\n",
       "    </tr>\n",
       "    <tr>\n",
       "      <th>recife</th>\n",
       "      <td>32567</td>\n",
       "      <td>1.491846e+02</td>\n",
       "    </tr>\n",
       "    <tr>\n",
       "      <th>guarulhos</th>\n",
       "      <td>56378768</td>\n",
       "      <td>1.766252e+05</td>\n",
       "    </tr>\n",
       "    <tr>\n",
       "      <th>são paulo</th>\n",
       "      <td>325546464</td>\n",
       "      <td>2.137534e+06</td>\n",
       "    </tr>\n",
       "    <tr>\n",
       "      <th>alagoas</th>\n",
       "      <td>876576</td>\n",
       "      <td>3.156785e+04</td>\n",
       "    </tr>\n",
       "  </tbody>\n",
       "</table>\n",
       "</div>"
      ],
      "text/plain": [
       "             population       density\n",
       "joão pessoa      235456  1.113267e+03\n",
       "recife            32567  1.491846e+02\n",
       "guarulhos      56378768  1.766252e+05\n",
       "são paulo     325546464  2.137534e+06\n",
       "alagoas          876576  3.156785e+04"
      ]
     },
     "execution_count": 46,
     "metadata": {},
     "output_type": "execute_result"
    }
   ],
   "source": [
    "states.loc[states.density > 100,[\"population\",\"density\"]]"
   ]
  },
  {
   "cell_type": "code",
   "execution_count": 47,
   "id": "quick-overview",
   "metadata": {},
   "outputs": [
    {
     "data": {
      "text/html": [
       "<div>\n",
       "<style scoped>\n",
       "    .dataframe tbody tr th:only-of-type {\n",
       "        vertical-align: middle;\n",
       "    }\n",
       "\n",
       "    .dataframe tbody tr th {\n",
       "        vertical-align: top;\n",
       "    }\n",
       "\n",
       "    .dataframe thead th {\n",
       "        text-align: right;\n",
       "    }\n",
       "</style>\n",
       "<table border=\"1\" class=\"dataframe\">\n",
       "  <thead>\n",
       "    <tr style=\"text-align: right;\">\n",
       "      <th></th>\n",
       "      <th>population</th>\n",
       "    </tr>\n",
       "  </thead>\n",
       "  <tbody>\n",
       "    <tr>\n",
       "      <th>joão pessoa</th>\n",
       "      <td>235456</td>\n",
       "    </tr>\n",
       "    <tr>\n",
       "      <th>recife</th>\n",
       "      <td>32567</td>\n",
       "    </tr>\n",
       "    <tr>\n",
       "      <th>guarulhos</th>\n",
       "      <td>56378768</td>\n",
       "    </tr>\n",
       "    <tr>\n",
       "      <th>são paulo</th>\n",
       "      <td>325546464</td>\n",
       "    </tr>\n",
       "    <tr>\n",
       "      <th>alagoas</th>\n",
       "      <td>876576</td>\n",
       "    </tr>\n",
       "  </tbody>\n",
       "</table>\n",
       "</div>"
      ],
      "text/plain": [
       "             population\n",
       "joão pessoa      235456\n",
       "recife            32567\n",
       "guarulhos      56378768\n",
       "são paulo     325546464\n",
       "alagoas          876576"
      ]
     },
     "execution_count": 47,
     "metadata": {},
     "output_type": "execute_result"
    }
   ],
   "source": [
    "states.loc[states.density > 100,[\"population\"]]"
   ]
  },
  {
   "cell_type": "markdown",
   "id": "injured-disposal",
   "metadata": {},
   "source": [
    "ENTRADA E SAIDA"
   ]
  },
  {
   "cell_type": "markdown",
   "id": "aware-gender",
   "metadata": {},
   "source": [
    "os pandas taz a função \".read_csv()\" que carrega arquivos csv e os transforma em um DataFrama"
   ]
  },
  {
   "cell_type": "code",
   "execution_count": 49,
   "id": "vertical-desktop",
   "metadata": {},
   "outputs": [],
   "source": [
    "movies_df = pd.read_csv (\"movies.csv\")"
   ]
  },
  {
   "cell_type": "code",
   "execution_count": 50,
   "id": "narrative-spirit",
   "metadata": {},
   "outputs": [
    {
     "data": {
      "text/html": [
       "<div>\n",
       "<style scoped>\n",
       "    .dataframe tbody tr th:only-of-type {\n",
       "        vertical-align: middle;\n",
       "    }\n",
       "\n",
       "    .dataframe tbody tr th {\n",
       "        vertical-align: top;\n",
       "    }\n",
       "\n",
       "    .dataframe thead th {\n",
       "        text-align: right;\n",
       "    }\n",
       "</style>\n",
       "<table border=\"1\" class=\"dataframe\">\n",
       "  <thead>\n",
       "    <tr style=\"text-align: right;\">\n",
       "      <th></th>\n",
       "      <th>Title</th>\n",
       "      <th>US Gross</th>\n",
       "      <th>Worldwide Gross</th>\n",
       "      <th>US DVD Sales</th>\n",
       "      <th>Production Budget</th>\n",
       "      <th>Release Date</th>\n",
       "      <th>MPAA Rating</th>\n",
       "      <th>Running Time (min)</th>\n",
       "      <th>Distributor</th>\n",
       "      <th>Source</th>\n",
       "      <th>Major Genre</th>\n",
       "      <th>Creative Type</th>\n",
       "      <th>Director</th>\n",
       "      <th>Rotten Tomatoes Rating</th>\n",
       "      <th>IMDB Rating</th>\n",
       "      <th>IMDB Votes</th>\n",
       "    </tr>\n",
       "  </thead>\n",
       "  <tbody>\n",
       "    <tr>\n",
       "      <th>0</th>\n",
       "      <td>The Land Girls</td>\n",
       "      <td>146083.0</td>\n",
       "      <td>146083.0</td>\n",
       "      <td>NaN</td>\n",
       "      <td>8000000.0</td>\n",
       "      <td>12-Jun-98</td>\n",
       "      <td>R</td>\n",
       "      <td>NaN</td>\n",
       "      <td>Gramercy</td>\n",
       "      <td>NaN</td>\n",
       "      <td>NaN</td>\n",
       "      <td>NaN</td>\n",
       "      <td>NaN</td>\n",
       "      <td>NaN</td>\n",
       "      <td>6.1</td>\n",
       "      <td>1071.0</td>\n",
       "    </tr>\n",
       "    <tr>\n",
       "      <th>1</th>\n",
       "      <td>First Love, Last Rites</td>\n",
       "      <td>10876.0</td>\n",
       "      <td>10876.0</td>\n",
       "      <td>NaN</td>\n",
       "      <td>300000.0</td>\n",
       "      <td>7-Aug-98</td>\n",
       "      <td>R</td>\n",
       "      <td>NaN</td>\n",
       "      <td>Strand</td>\n",
       "      <td>NaN</td>\n",
       "      <td>Drama</td>\n",
       "      <td>NaN</td>\n",
       "      <td>NaN</td>\n",
       "      <td>NaN</td>\n",
       "      <td>6.9</td>\n",
       "      <td>207.0</td>\n",
       "    </tr>\n",
       "    <tr>\n",
       "      <th>2</th>\n",
       "      <td>I Married a Strange Person</td>\n",
       "      <td>203134.0</td>\n",
       "      <td>203134.0</td>\n",
       "      <td>NaN</td>\n",
       "      <td>250000.0</td>\n",
       "      <td>28-Aug-98</td>\n",
       "      <td>NaN</td>\n",
       "      <td>NaN</td>\n",
       "      <td>Lionsgate</td>\n",
       "      <td>NaN</td>\n",
       "      <td>Comedy</td>\n",
       "      <td>NaN</td>\n",
       "      <td>NaN</td>\n",
       "      <td>NaN</td>\n",
       "      <td>6.8</td>\n",
       "      <td>865.0</td>\n",
       "    </tr>\n",
       "    <tr>\n",
       "      <th>3</th>\n",
       "      <td>Let's Talk About Sex</td>\n",
       "      <td>373615.0</td>\n",
       "      <td>373615.0</td>\n",
       "      <td>NaN</td>\n",
       "      <td>300000.0</td>\n",
       "      <td>11-Sep-98</td>\n",
       "      <td>NaN</td>\n",
       "      <td>NaN</td>\n",
       "      <td>Fine Line</td>\n",
       "      <td>NaN</td>\n",
       "      <td>Comedy</td>\n",
       "      <td>NaN</td>\n",
       "      <td>NaN</td>\n",
       "      <td>13.0</td>\n",
       "      <td>NaN</td>\n",
       "      <td>NaN</td>\n",
       "    </tr>\n",
       "    <tr>\n",
       "      <th>4</th>\n",
       "      <td>Slam</td>\n",
       "      <td>1009819.0</td>\n",
       "      <td>1087521.0</td>\n",
       "      <td>NaN</td>\n",
       "      <td>1000000.0</td>\n",
       "      <td>9-Oct-98</td>\n",
       "      <td>R</td>\n",
       "      <td>NaN</td>\n",
       "      <td>Trimark</td>\n",
       "      <td>Original Screenplay</td>\n",
       "      <td>Drama</td>\n",
       "      <td>Contemporary Fiction</td>\n",
       "      <td>NaN</td>\n",
       "      <td>62.0</td>\n",
       "      <td>3.4</td>\n",
       "      <td>165.0</td>\n",
       "    </tr>\n",
       "    <tr>\n",
       "      <th>...</th>\n",
       "      <td>...</td>\n",
       "      <td>...</td>\n",
       "      <td>...</td>\n",
       "      <td>...</td>\n",
       "      <td>...</td>\n",
       "      <td>...</td>\n",
       "      <td>...</td>\n",
       "      <td>...</td>\n",
       "      <td>...</td>\n",
       "      <td>...</td>\n",
       "      <td>...</td>\n",
       "      <td>...</td>\n",
       "      <td>...</td>\n",
       "      <td>...</td>\n",
       "      <td>...</td>\n",
       "      <td>...</td>\n",
       "    </tr>\n",
       "    <tr>\n",
       "      <th>3196</th>\n",
       "      <td>Zack and Miri Make a Porno</td>\n",
       "      <td>31452765.0</td>\n",
       "      <td>36851125.0</td>\n",
       "      <td>21240321.0</td>\n",
       "      <td>24000000.0</td>\n",
       "      <td>31-Oct-08</td>\n",
       "      <td>R</td>\n",
       "      <td>101.0</td>\n",
       "      <td>Weinstein Co.</td>\n",
       "      <td>Original Screenplay</td>\n",
       "      <td>Comedy</td>\n",
       "      <td>Contemporary Fiction</td>\n",
       "      <td>Kevin Smith</td>\n",
       "      <td>65.0</td>\n",
       "      <td>7.0</td>\n",
       "      <td>55687.0</td>\n",
       "    </tr>\n",
       "    <tr>\n",
       "      <th>3197</th>\n",
       "      <td>Zodiac</td>\n",
       "      <td>33080084.0</td>\n",
       "      <td>83080084.0</td>\n",
       "      <td>20983030.0</td>\n",
       "      <td>85000000.0</td>\n",
       "      <td>2-Mar-07</td>\n",
       "      <td>R</td>\n",
       "      <td>157.0</td>\n",
       "      <td>Paramount Pictures</td>\n",
       "      <td>Based on Book/Short Story</td>\n",
       "      <td>Thriller/Suspense</td>\n",
       "      <td>Dramatization</td>\n",
       "      <td>David Fincher</td>\n",
       "      <td>89.0</td>\n",
       "      <td>NaN</td>\n",
       "      <td>NaN</td>\n",
       "    </tr>\n",
       "    <tr>\n",
       "      <th>3198</th>\n",
       "      <td>Zoom</td>\n",
       "      <td>11989328.0</td>\n",
       "      <td>12506188.0</td>\n",
       "      <td>6679409.0</td>\n",
       "      <td>35000000.0</td>\n",
       "      <td>11-Aug-06</td>\n",
       "      <td>PG</td>\n",
       "      <td>NaN</td>\n",
       "      <td>Sony Pictures</td>\n",
       "      <td>Based on Comic/Graphic Novel</td>\n",
       "      <td>Adventure</td>\n",
       "      <td>Super Hero</td>\n",
       "      <td>Peter Hewitt</td>\n",
       "      <td>3.0</td>\n",
       "      <td>3.4</td>\n",
       "      <td>7424.0</td>\n",
       "    </tr>\n",
       "    <tr>\n",
       "      <th>3199</th>\n",
       "      <td>The Legend of Zorro</td>\n",
       "      <td>45575336.0</td>\n",
       "      <td>141475336.0</td>\n",
       "      <td>NaN</td>\n",
       "      <td>80000000.0</td>\n",
       "      <td>28-Oct-05</td>\n",
       "      <td>PG</td>\n",
       "      <td>129.0</td>\n",
       "      <td>Sony Pictures</td>\n",
       "      <td>Remake</td>\n",
       "      <td>Adventure</td>\n",
       "      <td>Historical Fiction</td>\n",
       "      <td>Martin Campbell</td>\n",
       "      <td>26.0</td>\n",
       "      <td>5.7</td>\n",
       "      <td>21161.0</td>\n",
       "    </tr>\n",
       "    <tr>\n",
       "      <th>3200</th>\n",
       "      <td>The Mask of Zorro</td>\n",
       "      <td>93828745.0</td>\n",
       "      <td>233700000.0</td>\n",
       "      <td>NaN</td>\n",
       "      <td>65000000.0</td>\n",
       "      <td>17-Jul-98</td>\n",
       "      <td>PG-13</td>\n",
       "      <td>136.0</td>\n",
       "      <td>Sony Pictures</td>\n",
       "      <td>Remake</td>\n",
       "      <td>Adventure</td>\n",
       "      <td>Historical Fiction</td>\n",
       "      <td>Martin Campbell</td>\n",
       "      <td>82.0</td>\n",
       "      <td>6.7</td>\n",
       "      <td>4789.0</td>\n",
       "    </tr>\n",
       "  </tbody>\n",
       "</table>\n",
       "<p>3201 rows × 16 columns</p>\n",
       "</div>"
      ],
      "text/plain": [
       "                           Title    US Gross  Worldwide Gross  US DVD Sales  \\\n",
       "0                 The Land Girls    146083.0         146083.0           NaN   \n",
       "1         First Love, Last Rites     10876.0          10876.0           NaN   \n",
       "2     I Married a Strange Person    203134.0         203134.0           NaN   \n",
       "3           Let's Talk About Sex    373615.0         373615.0           NaN   \n",
       "4                           Slam   1009819.0        1087521.0           NaN   \n",
       "...                          ...         ...              ...           ...   \n",
       "3196  Zack and Miri Make a Porno  31452765.0       36851125.0    21240321.0   \n",
       "3197                      Zodiac  33080084.0       83080084.0    20983030.0   \n",
       "3198                        Zoom  11989328.0       12506188.0     6679409.0   \n",
       "3199         The Legend of Zorro  45575336.0      141475336.0           NaN   \n",
       "3200           The Mask of Zorro  93828745.0      233700000.0           NaN   \n",
       "\n",
       "      Production Budget Release Date MPAA Rating  Running Time (min)  \\\n",
       "0             8000000.0    12-Jun-98           R                 NaN   \n",
       "1              300000.0     7-Aug-98           R                 NaN   \n",
       "2              250000.0    28-Aug-98         NaN                 NaN   \n",
       "3              300000.0    11-Sep-98         NaN                 NaN   \n",
       "4             1000000.0     9-Oct-98           R                 NaN   \n",
       "...                 ...          ...         ...                 ...   \n",
       "3196         24000000.0    31-Oct-08           R               101.0   \n",
       "3197         85000000.0     2-Mar-07           R               157.0   \n",
       "3198         35000000.0    11-Aug-06          PG                 NaN   \n",
       "3199         80000000.0    28-Oct-05          PG               129.0   \n",
       "3200         65000000.0    17-Jul-98       PG-13               136.0   \n",
       "\n",
       "             Distributor                        Source        Major Genre  \\\n",
       "0               Gramercy                           NaN                NaN   \n",
       "1                 Strand                           NaN              Drama   \n",
       "2              Lionsgate                           NaN             Comedy   \n",
       "3              Fine Line                           NaN             Comedy   \n",
       "4                Trimark           Original Screenplay              Drama   \n",
       "...                  ...                           ...                ...   \n",
       "3196       Weinstein Co.           Original Screenplay             Comedy   \n",
       "3197  Paramount Pictures     Based on Book/Short Story  Thriller/Suspense   \n",
       "3198       Sony Pictures  Based on Comic/Graphic Novel          Adventure   \n",
       "3199       Sony Pictures                        Remake          Adventure   \n",
       "3200       Sony Pictures                        Remake          Adventure   \n",
       "\n",
       "             Creative Type         Director  Rotten Tomatoes Rating  \\\n",
       "0                      NaN              NaN                     NaN   \n",
       "1                      NaN              NaN                     NaN   \n",
       "2                      NaN              NaN                     NaN   \n",
       "3                      NaN              NaN                    13.0   \n",
       "4     Contemporary Fiction              NaN                    62.0   \n",
       "...                    ...              ...                     ...   \n",
       "3196  Contemporary Fiction      Kevin Smith                    65.0   \n",
       "3197         Dramatization    David Fincher                    89.0   \n",
       "3198            Super Hero     Peter Hewitt                     3.0   \n",
       "3199    Historical Fiction  Martin Campbell                    26.0   \n",
       "3200    Historical Fiction  Martin Campbell                    82.0   \n",
       "\n",
       "      IMDB Rating  IMDB Votes  \n",
       "0             6.1      1071.0  \n",
       "1             6.9       207.0  \n",
       "2             6.8       865.0  \n",
       "3             NaN         NaN  \n",
       "4             3.4       165.0  \n",
       "...           ...         ...  \n",
       "3196          7.0     55687.0  \n",
       "3197          NaN         NaN  \n",
       "3198          3.4      7424.0  \n",
       "3199          5.7     21161.0  \n",
       "3200          6.7      4789.0  \n",
       "\n",
       "[3201 rows x 16 columns]"
      ]
     },
     "execution_count": 50,
     "metadata": {},
     "output_type": "execute_result"
    }
   ],
   "source": [
    "movies_df"
   ]
  },
  {
   "cell_type": "code",
   "execution_count": 53,
   "id": "proved-fifteen",
   "metadata": {},
   "outputs": [
    {
     "ename": "NameError",
     "evalue": "name 'DataSets' is not defined",
     "output_type": "error",
     "traceback": [
      "\u001b[1;31m---------------------------------------------------------------------------\u001b[0m",
      "\u001b[1;31mNameError\u001b[0m                                 Traceback (most recent call last)",
      "\u001b[1;32m<ipython-input-53-bb310517b9c3>\u001b[0m in \u001b[0;36m<module>\u001b[1;34m\u001b[0m\n\u001b[1;32m----> 1\u001b[1;33m \u001b[0mmovies_df\u001b[0m \u001b[1;33m=\u001b[0m \u001b[0mDataSets\u001b[0m\u001b[1;33m(\u001b[0m\u001b[1;34m\"movies.csv\"\u001b[0m\u001b[1;33m)\u001b[0m\u001b[1;33m\u001b[0m\u001b[1;33m\u001b[0m\u001b[0m\n\u001b[0m",
      "\u001b[1;31mNameError\u001b[0m: name 'DataSets' is not defined"
     ]
    }
   ],
   "source": []
  },
  {
   "cell_type": "code",
   "execution_count": null,
   "id": "empirical-olive",
   "metadata": {},
   "outputs": [],
   "source": []
  }
 ],
 "metadata": {
  "kernelspec": {
   "display_name": "Python 3",
   "language": "python",
   "name": "python3"
  },
  "language_info": {
   "codemirror_mode": {
    "name": "ipython",
    "version": 3
   },
   "file_extension": ".py",
   "mimetype": "text/x-python",
   "name": "python",
   "nbconvert_exporter": "python",
   "pygments_lexer": "ipython3",
   "version": "3.9.1"
  }
 },
 "nbformat": 4,
 "nbformat_minor": 5
}
