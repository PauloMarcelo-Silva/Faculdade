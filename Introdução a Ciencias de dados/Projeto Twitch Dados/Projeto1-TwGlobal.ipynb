{
 "cells": [
  {
   "cell_type": "code",
   "execution_count": 25,
   "metadata": {
    "scrolled": true
   },
   "outputs": [
    {
     "data": {
      "text/html": [
       "<div>\n",
       "<style scoped>\n",
       "    .dataframe tbody tr th:only-of-type {\n",
       "        vertical-align: middle;\n",
       "    }\n",
       "\n",
       "    .dataframe tbody tr th {\n",
       "        vertical-align: top;\n",
       "    }\n",
       "\n",
       "    .dataframe thead th {\n",
       "        text-align: right;\n",
       "    }\n",
       "</style>\n",
       "<table border=\"1\" class=\"dataframe\">\n",
       "  <thead>\n",
       "    <tr style=\"text-align: right;\">\n",
       "      <th></th>\n",
       "      <th>Year</th>\n",
       "      <th>Month</th>\n",
       "      <th>Hours_watched</th>\n",
       "      <th>Avg_viewers</th>\n",
       "      <th>Peak_viewers</th>\n",
       "      <th>Streams</th>\n",
       "      <th>Avg_channels</th>\n",
       "      <th>Games_streamed</th>\n",
       "    </tr>\n",
       "  </thead>\n",
       "  <tbody>\n",
       "    <tr>\n",
       "      <th>0</th>\n",
       "      <td>2016</td>\n",
       "      <td>1</td>\n",
       "      <td>480241904</td>\n",
       "      <td>646355</td>\n",
       "      <td>1275257</td>\n",
       "      <td>7701675</td>\n",
       "      <td>20076</td>\n",
       "      <td>12149</td>\n",
       "    </tr>\n",
       "    <tr>\n",
       "      <th>1</th>\n",
       "      <td>2016</td>\n",
       "      <td>2</td>\n",
       "      <td>441859897</td>\n",
       "      <td>635769</td>\n",
       "      <td>1308032</td>\n",
       "      <td>7038520</td>\n",
       "      <td>20427</td>\n",
       "      <td>12134</td>\n",
       "    </tr>\n",
       "    <tr>\n",
       "      <th>2</th>\n",
       "      <td>2016</td>\n",
       "      <td>3</td>\n",
       "      <td>490669308</td>\n",
       "      <td>660389</td>\n",
       "      <td>1591551</td>\n",
       "      <td>7390957</td>\n",
       "      <td>20271</td>\n",
       "      <td>12234</td>\n",
       "    </tr>\n",
       "    <tr>\n",
       "      <th>3</th>\n",
       "      <td>2016</td>\n",
       "      <td>4</td>\n",
       "      <td>377975447</td>\n",
       "      <td>525696</td>\n",
       "      <td>1775120</td>\n",
       "      <td>6869719</td>\n",
       "      <td>16791</td>\n",
       "      <td>12282</td>\n",
       "    </tr>\n",
       "    <tr>\n",
       "      <th>4</th>\n",
       "      <td>2016</td>\n",
       "      <td>5</td>\n",
       "      <td>449836631</td>\n",
       "      <td>605432</td>\n",
       "      <td>1438962</td>\n",
       "      <td>7535519</td>\n",
       "      <td>19394</td>\n",
       "      <td>12424</td>\n",
       "    </tr>\n",
       "    <tr>\n",
       "      <th>...</th>\n",
       "      <td>...</td>\n",
       "      <td>...</td>\n",
       "      <td>...</td>\n",
       "      <td>...</td>\n",
       "      <td>...</td>\n",
       "      <td>...</td>\n",
       "      <td>...</td>\n",
       "      <td>...</td>\n",
       "    </tr>\n",
       "    <tr>\n",
       "      <th>57</th>\n",
       "      <td>2020</td>\n",
       "      <td>10</td>\n",
       "      <td>1774145250</td>\n",
       "      <td>2387813</td>\n",
       "      <td>4208725</td>\n",
       "      <td>19774827</td>\n",
       "      <td>95170</td>\n",
       "      <td>31922</td>\n",
       "    </tr>\n",
       "    <tr>\n",
       "      <th>58</th>\n",
       "      <td>2020</td>\n",
       "      <td>11</td>\n",
       "      <td>1789235196</td>\n",
       "      <td>2488505</td>\n",
       "      <td>4380326</td>\n",
       "      <td>20176665</td>\n",
       "      <td>103929</td>\n",
       "      <td>32479</td>\n",
       "    </tr>\n",
       "    <tr>\n",
       "      <th>59</th>\n",
       "      <td>2020</td>\n",
       "      <td>12</td>\n",
       "      <td>1877319317</td>\n",
       "      <td>2526674</td>\n",
       "      <td>4860624</td>\n",
       "      <td>22089295</td>\n",
       "      <td>107006</td>\n",
       "      <td>32840</td>\n",
       "    </tr>\n",
       "    <tr>\n",
       "      <th>60</th>\n",
       "      <td>2021</td>\n",
       "      <td>1</td>\n",
       "      <td>2173794168</td>\n",
       "      <td>2925698</td>\n",
       "      <td>6516666</td>\n",
       "      <td>25614207</td>\n",
       "      <td>119448</td>\n",
       "      <td>34551</td>\n",
       "    </tr>\n",
       "    <tr>\n",
       "      <th>61</th>\n",
       "      <td>2021</td>\n",
       "      <td>2</td>\n",
       "      <td>1979581961</td>\n",
       "      <td>2950196</td>\n",
       "      <td>5274617</td>\n",
       "      <td>24319608</td>\n",
       "      <td>122763</td>\n",
       "      <td>34594</td>\n",
       "    </tr>\n",
       "  </tbody>\n",
       "</table>\n",
       "<p>62 rows × 8 columns</p>\n",
       "</div>"
      ],
      "text/plain": [
       "    Year  Month  Hours_watched  Avg_viewers  Peak_viewers   Streams  \\\n",
       "0   2016      1      480241904       646355       1275257   7701675   \n",
       "1   2016      2      441859897       635769       1308032   7038520   \n",
       "2   2016      3      490669308       660389       1591551   7390957   \n",
       "3   2016      4      377975447       525696       1775120   6869719   \n",
       "4   2016      5      449836631       605432       1438962   7535519   \n",
       "..   ...    ...            ...          ...           ...       ...   \n",
       "57  2020     10     1774145250      2387813       4208725  19774827   \n",
       "58  2020     11     1789235196      2488505       4380326  20176665   \n",
       "59  2020     12     1877319317      2526674       4860624  22089295   \n",
       "60  2021      1     2173794168      2925698       6516666  25614207   \n",
       "61  2021      2     1979581961      2950196       5274617  24319608   \n",
       "\n",
       "    Avg_channels  Games_streamed  \n",
       "0          20076           12149  \n",
       "1          20427           12134  \n",
       "2          20271           12234  \n",
       "3          16791           12282  \n",
       "4          19394           12424  \n",
       "..           ...             ...  \n",
       "57         95170           31922  \n",
       "58        103929           32479  \n",
       "59        107006           32840  \n",
       "60        119448           34551  \n",
       "61        122763           34594  \n",
       "\n",
       "[62 rows x 8 columns]"
      ]
     },
     "execution_count": 25,
     "metadata": {},
     "output_type": "execute_result"
    }
   ],
   "source": [
    "import pandas as pd\n",
    "import numpy as np\n",
    "import math as mt\n",
    "import scipy as sp\n",
    "import matplotlib.pyplot as plt\n",
    "import seaborn as sns\n",
    "TwGlobal = pd.read_csv('Twitch_global_data.csv')\n",
    "TwGlobal"
   ]
  },
  {
   "cell_type": "markdown",
   "metadata": {},
   "source": [
    "# Média"
   ]
  },
  {
   "cell_type": "code",
   "execution_count": 26,
   "metadata": {},
   "outputs": [
    {
     "name": "stdout",
     "output_type": "stream",
     "text": [
      "Média Hours_watched: 886047943.2741935\n",
      "Média Avg_viewers: 1216510.5806451612\n",
      "Média Peak_viewers: 2578013.080645161\n",
      "Média Streams: 12820925.483870968\n",
      "Média Avg_channels: 46880.82258064516\n",
      "Média: Games_streamed: 19330.08064516129\n"
     ]
    }
   ],
   "source": [
    "#Média\n",
    "print('Média Hours_watched:',np.mean(TwGlobal['Hours_watched']))\n",
    "print('Média Avg_viewers:',np.mean(TwGlobal['Avg_viewers']))\n",
    "print('Média Peak_viewers:',np.mean(TwGlobal['Peak_viewers']))\n",
    "print('Média Streams:',np.mean(TwGlobal['Streams']))\n",
    "print('Média Avg_channels:',np.mean(TwGlobal['Avg_channels']))\n",
    "print('Média: Games_streamed:',np.mean(TwGlobal['Games_streamed']))"
   ]
  },
  {
   "cell_type": "markdown",
   "metadata": {},
   "source": [
    "# Mediana\n"
   ]
  },
  {
   "cell_type": "code",
   "execution_count": 27,
   "metadata": {
    "scrolled": true
   },
   "outputs": [
    {
     "name": "stdout",
     "output_type": "stream",
     "text": [
      "Mediana Hours_watched: 805652006.0\n",
      "Mediana Avg_viewers: 1115525.0\n",
      "Mediana Peak_viewers: 2299763.5\n",
      "Mediana Streams: 13475843.0\n",
      "Mediana Avg_channels: 42593.5\n",
      "Mediana: Games_streamed: 19071.5\n"
     ]
    }
   ],
   "source": [
    "#Mediana\n",
    "print('Mediana Hours_watched:',np.median(TwGlobal['Hours_watched']))\n",
    "print('Mediana Avg_viewers:',np.median(TwGlobal['Avg_viewers']))\n",
    "print('Mediana Peak_viewers:',np.median(TwGlobal['Peak_viewers']))\n",
    "print('Mediana Streams:',np.median(TwGlobal['Streams']))\n",
    "print('Mediana Avg_channels:',np.median(TwGlobal['Avg_channels']))\n",
    "print('Mediana: Games_streamed:',np.median(TwGlobal['Games_streamed']))"
   ]
  },
  {
   "cell_type": "markdown",
   "metadata": {},
   "source": [
    "# Moda"
   ]
  },
  {
   "cell_type": "code",
   "execution_count": 28,
   "metadata": {},
   "outputs": [],
   "source": [
    "#Moda"
   ]
  },
  {
   "cell_type": "markdown",
   "metadata": {},
   "source": [
    "# Desvio Padrão"
   ]
  },
  {
   "cell_type": "code",
   "execution_count": 29,
   "metadata": {},
   "outputs": [
    {
     "name": "stdout",
     "output_type": "stream",
     "text": [
      "DesvioPadrão Hours_watched: 462404547.5495561\n",
      "DesvioPadrão Avg_viewers: 638463.2190797138\n",
      "DesvioPadrão Peak_viewers: 1219743.771962497\n",
      "DesvioPadrão Streams: 4990471.130272546\n",
      "DesvioPadrão Avg_channels: 28677.374274416652\n",
      "DesvioPadrão Games_streamed: 5604.095565423521\n"
     ]
    }
   ],
   "source": [
    "#Desvio Padrão\n",
    "print('DesvioPadrão Hours_watched:',mt.sqrt(np.var(TwGlobal['Hours_watched'])))\n",
    "print('DesvioPadrão Avg_viewers:',mt.sqrt(np.var(TwGlobal['Avg_viewers'])))\n",
    "print('DesvioPadrão Peak_viewers:',mt.sqrt(np.var(TwGlobal['Peak_viewers'])))\n",
    "print('DesvioPadrão Streams:',mt.sqrt(np.var(TwGlobal['Streams'])))\n",
    "print('DesvioPadrão Avg_channels:',mt.sqrt(np.var(TwGlobal['Avg_channels'])))\n",
    "print('DesvioPadrão Games_streamed:',mt.sqrt(np.var(TwGlobal['Games_streamed'])))"
   ]
  },
  {
   "cell_type": "markdown",
   "metadata": {},
   "source": [
    "# Boxplot geral"
   ]
  },
  {
   "cell_type": "code",
   "execution_count": 30,
   "metadata": {
    "scrolled": true
   },
   "outputs": [
    {
     "name": "stdout",
     "output_type": "stream",
     "text": [
      "Hours_watched: AxesSubplot(0.125,0.125;0.775x0.755)\n",
      "Avg_viewers: AxesSubplot(0.125,0.125;0.775x0.755)\n",
      "Peak_viewers: AxesSubplot(0.125,0.125;0.775x0.755)\n",
      "Streams: AxesSubplot(0.125,0.125;0.775x0.755)\n",
      "Avg_channels: AxesSubplot(0.125,0.125;0.775x0.755)\n",
      "Games_streamed: AxesSubplot(0.125,0.125;0.775x0.755)\n"
     ]
    },
    {
     "data": {
      "image/png": "[encoded data removed]",
      "text/plain": [
       "<Figure size 576x432 with 1 Axes>"
      ]
     },
     "metadata": {
      "needs_background": "light"
     },
     "output_type": "display_data"
    }
   ],
   "source": [
    "#Boxplot Geral\n",
    "plt.figure(figsize = (8,6))\n",
    "print('Hours_watched:',TwGlobal.boxplot(column=\"Hours_watched\"))\n",
    "print(\"Avg_viewers:\",TwGlobal.boxplot(column=\"Avg_viewers\"))\n",
    "print('Peak_viewers:',TwGlobal.boxplot(column=\"Peak_viewers\"))\n",
    "print('Streams:',TwGlobal.boxplot(column=\"Streams\"))\n",
    "print('Avg_channels:',TwGlobal.boxplot(column=\"Avg_channels\"))\n",
    "print('Games_streamed:',TwGlobal.boxplot(column=\"Games_streamed\"))"
   ]
  },
  {
   "cell_type": "markdown",
   "metadata": {},
   "source": [
    "# Boxplot"
   ]
  },
  {
   "cell_type": "code",
   "execution_count": 31,
   "metadata": {},
   "outputs": [
    {
     "name": "stdout",
     "output_type": "stream",
     "text": [
      "Hours_watched: AxesSubplot(0.125,0.125;0.775x0.755)\n"
     ]
    },
    {
     "data": {
      "image/png": "[encoded data removed]",
      "text/plain": [
       "<Figure size 576x432 with 1 Axes>"
      ]
     },
     "metadata": {
      "needs_background": "light"
     },
     "output_type": "display_data"
    }
   ],
   "source": [
    "plt.figure(figsize = (8,6))\n",
    "print('Hours_watched:',TwGlobal.boxplot(column=\"Hours_watched\"))"
   ]
  },
  {
   "cell_type": "code",
   "execution_count": 32,
   "metadata": {},
   "outputs": [
    {
     "name": "stdout",
     "output_type": "stream",
     "text": [
      "Avg_viewers: AxesSubplot(0.125,0.125;0.775x0.755)\n"
     ]
    },
    {
     "data": {
      "image/png": "[encoded data removed]",
      "text/plain": [
       "<Figure size 576x432 with 1 Axes>"
      ]
     },
     "metadata": {
      "needs_background": "light"
     },
     "output_type": "display_data"
    }
   ],
   "source": [
    "plt.figure(figsize = (8,6))\n",
    "print(\"Avg_viewers:\",TwGlobal.boxplot(column=\"Avg_viewers\"))"
   ]
  },
  {
   "cell_type": "code",
   "execution_count": 33,
   "metadata": {},
   "outputs": [
    {
     "name": "stdout",
     "output_type": "stream",
     "text": [
      "Peak_viewers: AxesSubplot(0.125,0.125;0.775x0.755)\n"
     ]
    },
    {
     "data": {
      "image/png": "[encoded data removed]",
      "text/plain": [
       "<Figure size 576x432 with 1 Axes>"
      ]
     },
     "metadata": {
      "needs_background": "light"
     },
     "output_type": "display_data"
    }
   ],
   "source": [
    "plt.figure(figsize = (8,6))\n",
    "print('Peak_viewers:',TwGlobal.boxplot(column=\"Peak_viewers\"))"
   ]
  },
  {
   "cell_type": "code",
   "execution_count": 34,
   "metadata": {},
   "outputs": [
    {
     "name": "stdout",
     "output_type": "stream",
     "text": [
      "Streams: AxesSubplot(0.125,0.125;0.775x0.755)\n"
     ]
    },
    {
     "data": {
      "image/png": "[encoded data removed]",
      "text/plain": [
       "<Figure size 576x432 with 1 Axes>"
      ]
     },
     "metadata": {
      "needs_background": "light"
     },
     "output_type": "display_data"
    }
   ],
   "source": [
    "plt.figure(figsize = (8,6))\n",
    "print('Streams:',TwGlobal.boxplot(column=\"Streams\"))"
   ]
  },
  {
   "cell_type": "code",
   "execution_count": 35,
   "metadata": {},
   "outputs": [
    {
     "name": "stdout",
     "output_type": "stream",
     "text": [
      "Avg_channels: AxesSubplot(0.125,0.125;0.775x0.755)\n"
     ]
    },
    {
     "data": {
      "image/png": "[encoded data removed]",
      "text/plain": [
       "<Figure size 576x432 with 1 Axes>"
      ]
     },
     "metadata": {
      "needs_background": "light"
     },
     "output_type": "display_data"
    }
   ],
   "source": [
    "plt.figure(figsize = (8,6))\n",
    "print('Avg_channels:',TwGlobal.boxplot(column=\"Avg_channels\"))"
   ]
  },
  {
   "cell_type": "code",
   "execution_count": 36,
   "metadata": {},
   "outputs": [
    {
     "name": "stdout",
     "output_type": "stream",
     "text": [
      "Games_streamed: AxesSubplot(0.125,0.125;0.775x0.755)\n"
     ]
    },
    {
     "data": {
      "image/png": "[encoded data removed]",
      "text/plain": [
       "<Figure size 576x432 with 1 Axes>"
      ]
     },
     "metadata": {
      "needs_background": "light"
     },
     "output_type": "display_data"
    }
   ],
   "source": [
    "plt.figure(figsize = (8,6))\n",
    "print('Games_streamed:',TwGlobal.boxplot(column=\"Games_streamed\"))"
   ]
  },
  {
   "cell_type": "markdown",
   "metadata": {},
   "source": [
    "# graficos"
   ]
  },
  {
   "cell_type": "code",
   "execution_count": 71,
   "metadata": {
    "scrolled": true
   },
   "outputs": [
    {
     "data": {
      "text/html": [
       "<div>\n",
       "<style scoped>\n",
       "    .dataframe tbody tr th:only-of-type {\n",
       "        vertical-align: middle;\n",
       "    }\n",
       "\n",
       "    .dataframe tbody tr th {\n",
       "        vertical-align: top;\n",
       "    }\n",
       "\n",
       "    .dataframe thead th {\n",
       "        text-align: right;\n",
       "    }\n",
       "</style>\n",
       "<table border=\"1\" class=\"dataframe\">\n",
       "  <thead>\n",
       "    <tr style=\"text-align: right;\">\n",
       "      <th></th>\n",
       "      <th>Year</th>\n",
       "      <th>Month</th>\n",
       "      <th>Hours_watched</th>\n",
       "      <th>Avg_viewers</th>\n",
       "      <th>Peak_viewers</th>\n",
       "      <th>Streams</th>\n",
       "      <th>Avg_channels</th>\n",
       "      <th>Games_streamed</th>\n",
       "    </tr>\n",
       "  </thead>\n",
       "  <tbody>\n",
       "    <tr>\n",
       "      <th>48</th>\n",
       "      <td>2020</td>\n",
       "      <td>1</td>\n",
       "      <td>1010010231</td>\n",
       "      <td>1359367</td>\n",
       "      <td>2400513</td>\n",
       "      <td>15053038</td>\n",
       "      <td>52875</td>\n",
       "      <td>21249</td>\n",
       "    </tr>\n",
       "    <tr>\n",
       "      <th>49</th>\n",
       "      <td>2020</td>\n",
       "      <td>2</td>\n",
       "      <td>981752149</td>\n",
       "      <td>1412593</td>\n",
       "      <td>2630587</td>\n",
       "      <td>13455714</td>\n",
       "      <td>53882</td>\n",
       "      <td>20748</td>\n",
       "    </tr>\n",
       "    <tr>\n",
       "      <th>50</th>\n",
       "      <td>2020</td>\n",
       "      <td>3</td>\n",
       "      <td>1218370086</td>\n",
       "      <td>1639798</td>\n",
       "      <td>3402641</td>\n",
       "      <td>17302441</td>\n",
       "      <td>66090</td>\n",
       "      <td>22872</td>\n",
       "    </tr>\n",
       "    <tr>\n",
       "      <th>51</th>\n",
       "      <td>2020</td>\n",
       "      <td>4</td>\n",
       "      <td>1792309113</td>\n",
       "      <td>2492780</td>\n",
       "      <td>4455065</td>\n",
       "      <td>17814917</td>\n",
       "      <td>93867</td>\n",
       "      <td>24646</td>\n",
       "    </tr>\n",
       "    <tr>\n",
       "      <th>52</th>\n",
       "      <td>2020</td>\n",
       "      <td>5</td>\n",
       "      <td>1755760388</td>\n",
       "      <td>2363069</td>\n",
       "      <td>4043730</td>\n",
       "      <td>20203413</td>\n",
       "      <td>100486</td>\n",
       "      <td>25396</td>\n",
       "    </tr>\n",
       "    <tr>\n",
       "      <th>53</th>\n",
       "      <td>2020</td>\n",
       "      <td>6</td>\n",
       "      <td>1629282927</td>\n",
       "      <td>2266040</td>\n",
       "      <td>6060464</td>\n",
       "      <td>18160561</td>\n",
       "      <td>94052</td>\n",
       "      <td>24780</td>\n",
       "    </tr>\n",
       "    <tr>\n",
       "      <th>54</th>\n",
       "      <td>2020</td>\n",
       "      <td>7</td>\n",
       "      <td>1572595815</td>\n",
       "      <td>2116548</td>\n",
       "      <td>3965956</td>\n",
       "      <td>18859473</td>\n",
       "      <td>95781</td>\n",
       "      <td>25485</td>\n",
       "    </tr>\n",
       "    <tr>\n",
       "      <th>55</th>\n",
       "      <td>2020</td>\n",
       "      <td>8</td>\n",
       "      <td>1620682345</td>\n",
       "      <td>2181268</td>\n",
       "      <td>3861619</td>\n",
       "      <td>19146406</td>\n",
       "      <td>96421</td>\n",
       "      <td>25714</td>\n",
       "    </tr>\n",
       "    <tr>\n",
       "      <th>56</th>\n",
       "      <td>2020</td>\n",
       "      <td>9</td>\n",
       "      <td>1585511181</td>\n",
       "      <td>2205161</td>\n",
       "      <td>4816995</td>\n",
       "      <td>18150678</td>\n",
       "      <td>91978</td>\n",
       "      <td>29190</td>\n",
       "    </tr>\n",
       "    <tr>\n",
       "      <th>57</th>\n",
       "      <td>2020</td>\n",
       "      <td>10</td>\n",
       "      <td>1774145250</td>\n",
       "      <td>2387813</td>\n",
       "      <td>4208725</td>\n",
       "      <td>19774827</td>\n",
       "      <td>95170</td>\n",
       "      <td>31922</td>\n",
       "    </tr>\n",
       "    <tr>\n",
       "      <th>58</th>\n",
       "      <td>2020</td>\n",
       "      <td>11</td>\n",
       "      <td>1789235196</td>\n",
       "      <td>2488505</td>\n",
       "      <td>4380326</td>\n",
       "      <td>20176665</td>\n",
       "      <td>103929</td>\n",
       "      <td>32479</td>\n",
       "    </tr>\n",
       "    <tr>\n",
       "      <th>59</th>\n",
       "      <td>2020</td>\n",
       "      <td>12</td>\n",
       "      <td>1877319317</td>\n",
       "      <td>2526674</td>\n",
       "      <td>4860624</td>\n",
       "      <td>22089295</td>\n",
       "      <td>107006</td>\n",
       "      <td>32840</td>\n",
       "    </tr>\n",
       "  </tbody>\n",
       "</table>\n",
       "</div>"
      ],
      "text/plain": [
       "    Year  Month  Hours_watched  Avg_viewers  Peak_viewers   Streams  \\\n",
       "48  2020      1     1010010231      1359367       2400513  15053038   \n",
       "49  2020      2      981752149      1412593       2630587  13455714   \n",
       "50  2020      3     1218370086      1639798       3402641  17302441   \n",
       "51  2020      4     1792309113      2492780       4455065  17814917   \n",
       "52  2020      5     1755760388      2363069       4043730  20203413   \n",
       "53  2020      6     1629282927      2266040       6060464  18160561   \n",
       "54  2020      7     1572595815      2116548       3965956  18859473   \n",
       "55  2020      8     1620682345      2181268       3861619  19146406   \n",
       "56  2020      9     1585511181      2205161       4816995  18150678   \n",
       "57  2020     10     1774145250      2387813       4208725  19774827   \n",
       "58  2020     11     1789235196      2488505       4380326  20176665   \n",
       "59  2020     12     1877319317      2526674       4860624  22089295   \n",
       "\n",
       "    Avg_channels  Games_streamed  \n",
       "48         52875           21249  \n",
       "49         53882           20748  \n",
       "50         66090           22872  \n",
       "51         93867           24646  \n",
       "52        100486           25396  \n",
       "53         94052           24780  \n",
       "54         95781           25485  \n",
       "55         96421           25714  \n",
       "56         91978           29190  \n",
       "57         95170           31922  \n",
       "58        103929           32479  \n",
       "59        107006           32840  "
      ]
     },
     "execution_count": 71,
     "metadata": {},
     "output_type": "execute_result"
    }
   ],
   "source": [
    "x = TwGlobal.loc[TwGlobal[\"Year\"] == 2020]\n",
    "x\n",
    "\n"
   ]
  },
  {
   "cell_type": "code",
   "execution_count": 72,
   "metadata": {
    "scrolled": true
   },
   "outputs": [
    {
     "data": {
      "image/png": "[encoded data removed]",
      "text/plain": [
       "<Figure size 720x576 with 1 Axes>"
      ]
     },
     "metadata": {
      "needs_background": "light"
     },
     "output_type": "display_data"
    }
   ],
   "source": [
    "from numpy import median\n",
    "plt.figure(figsize = (10,8))\n",
    "grafico = sns.barplot(x = \"Month\" , y = \"Avg_channels\", data=x,palette = \"Blues_d\" )\n",
    "grafico.set_title(\"canais ao vivo de 2020\")\n",
    "plt.show()"
   ]
  },
  {
   "cell_type": "code",
   "execution_count": 73,
   "metadata": {},
   "outputs": [
    {
     "data": {
      "image/png": "[encoded data removed]",
      "text/plain": [
       "<Figure size 720x576 with 1 Axes>"
      ]
     },
     "metadata": {
      "needs_background": "light"
     },
     "output_type": "display_data"
    }
   ],
   "source": [
    "sem_2021 = TwGlobal.loc[TwGlobal[\"Year\"] <= 2020]\n",
    "ano_2019_2020 = sem_2021.loc[sem_2021[\"Year\"] >= 2019]\n",
    "plt.figure(figsize = (10,8))\n",
    "x = sns.lineplot(data=ano_2019_2020, x=\"Month\", y=\"Avg_viewers\",hue = \"Year\",marker=\"o\",palette = \"pastel\")\n",
    "x.set_title(\"crecimento de visualização antes e durante do covid\")\n",
    "plt.show()"
   ]
  },
  {
   "cell_type": "code",
   "execution_count": 118,
   "metadata": {
    "scrolled": true
   },
   "outputs": [
    {
     "data": {
      "text/html": [
       "<div>\n",
       "<style scoped>\n",
       "    .dataframe tbody tr th:only-of-type {\n",
       "        vertical-align: middle;\n",
       "    }\n",
       "\n",
       "    .dataframe tbody tr th {\n",
       "        vertical-align: top;\n",
       "    }\n",
       "\n",
       "    .dataframe thead th {\n",
       "        text-align: right;\n",
       "    }\n",
       "</style>\n",
       "<table border=\"1\" class=\"dataframe\">\n",
       "  <thead>\n",
       "    <tr style=\"text-align: right;\">\n",
       "      <th></th>\n",
       "      <th>Year</th>\n",
       "      <th>Month</th>\n",
       "      <th>Age</th>\n",
       "      <th>Hours_watched</th>\n",
       "      <th>Avg_viewers</th>\n",
       "      <th>Peak_viewers</th>\n",
       "      <th>Streams</th>\n",
       "      <th>Avg_channels</th>\n",
       "      <th>Games_streamed</th>\n",
       "      <th>Hours_watched100000000</th>\n",
       "    </tr>\n",
       "  </thead>\n",
       "  <tbody>\n",
       "    <tr>\n",
       "      <th>36</th>\n",
       "      <td>2019</td>\n",
       "      <td>1</td>\n",
       "      <td>9.49</td>\n",
       "      <td>949050474</td>\n",
       "      <td>1277322</td>\n",
       "      <td>2278352</td>\n",
       "      <td>17042119</td>\n",
       "      <td>55853</td>\n",
       "      <td>19995</td>\n",
       "      <td>9.49</td>\n",
       "    </tr>\n",
       "    <tr>\n",
       "      <th>37</th>\n",
       "      <td>2019</td>\n",
       "      <td>2</td>\n",
       "      <td>8.81</td>\n",
       "      <td>881506851</td>\n",
       "      <td>1313721</td>\n",
       "      <td>2624711</td>\n",
       "      <td>15578420</td>\n",
       "      <td>56375</td>\n",
       "      <td>19573</td>\n",
       "      <td>8.82</td>\n",
       "    </tr>\n",
       "    <tr>\n",
       "      <th>38</th>\n",
       "      <td>2019</td>\n",
       "      <td>3</td>\n",
       "      <td>9.47</td>\n",
       "      <td>947733580</td>\n",
       "      <td>1275549</td>\n",
       "      <td>2630058</td>\n",
       "      <td>16718941</td>\n",
       "      <td>55019</td>\n",
       "      <td>20457</td>\n",
       "      <td>9.48</td>\n",
       "    </tr>\n",
       "    <tr>\n",
       "      <th>39</th>\n",
       "      <td>2019</td>\n",
       "      <td>4</td>\n",
       "      <td>8.88</td>\n",
       "      <td>888326199</td>\n",
       "      <td>1235502</td>\n",
       "      <td>2368981</td>\n",
       "      <td>15708616</td>\n",
       "      <td>51328</td>\n",
       "      <td>20536</td>\n",
       "      <td>8.88</td>\n",
       "    </tr>\n",
       "    <tr>\n",
       "      <th>40</th>\n",
       "      <td>2019</td>\n",
       "      <td>5</td>\n",
       "      <td>9.39</td>\n",
       "      <td>939520272</td>\n",
       "      <td>1264495</td>\n",
       "      <td>2607531</td>\n",
       "      <td>15520889</td>\n",
       "      <td>48357</td>\n",
       "      <td>20751</td>\n",
       "      <td>9.40</td>\n",
       "    </tr>\n",
       "    <tr>\n",
       "      <th>41</th>\n",
       "      <td>2019</td>\n",
       "      <td>6</td>\n",
       "      <td>9.39</td>\n",
       "      <td>939126720</td>\n",
       "      <td>1306156</td>\n",
       "      <td>3496976</td>\n",
       "      <td>14499225</td>\n",
       "      <td>47953</td>\n",
       "      <td>20209</td>\n",
       "      <td>9.39</td>\n",
       "    </tr>\n",
       "    <tr>\n",
       "      <th>42</th>\n",
       "      <td>2019</td>\n",
       "      <td>7</td>\n",
       "      <td>9.16</td>\n",
       "      <td>916692478</td>\n",
       "      <td>1233771</td>\n",
       "      <td>2933491</td>\n",
       "      <td>14790881</td>\n",
       "      <td>48111</td>\n",
       "      <td>20106</td>\n",
       "      <td>9.17</td>\n",
       "    </tr>\n",
       "    <tr>\n",
       "      <th>43</th>\n",
       "      <td>2019</td>\n",
       "      <td>8</td>\n",
       "      <td>9.99</td>\n",
       "      <td>999177398</td>\n",
       "      <td>1344787</td>\n",
       "      <td>2563475</td>\n",
       "      <td>14678509</td>\n",
       "      <td>48508</td>\n",
       "      <td>20421</td>\n",
       "      <td>9.99</td>\n",
       "    </tr>\n",
       "    <tr>\n",
       "      <th>44</th>\n",
       "      <td>2019</td>\n",
       "      <td>9</td>\n",
       "      <td>8.78</td>\n",
       "      <td>878083331</td>\n",
       "      <td>1221256</td>\n",
       "      <td>2817054</td>\n",
       "      <td>13284517</td>\n",
       "      <td>46242</td>\n",
       "      <td>19869</td>\n",
       "      <td>8.78</td>\n",
       "    </tr>\n",
       "    <tr>\n",
       "      <th>45</th>\n",
       "      <td>2019</td>\n",
       "      <td>10</td>\n",
       "      <td>9.00</td>\n",
       "      <td>900334210</td>\n",
       "      <td>1211755</td>\n",
       "      <td>2993052</td>\n",
       "      <td>13220814</td>\n",
       "      <td>45185</td>\n",
       "      <td>19904</td>\n",
       "      <td>9.00</td>\n",
       "    </tr>\n",
       "    <tr>\n",
       "      <th>46</th>\n",
       "      <td>2019</td>\n",
       "      <td>11</td>\n",
       "      <td>8.79</td>\n",
       "      <td>879157590</td>\n",
       "      <td>1222750</td>\n",
       "      <td>2906707</td>\n",
       "      <td>12939422</td>\n",
       "      <td>45655</td>\n",
       "      <td>20248</td>\n",
       "      <td>8.79</td>\n",
       "    </tr>\n",
       "    <tr>\n",
       "      <th>47</th>\n",
       "      <td>2019</td>\n",
       "      <td>12</td>\n",
       "      <td>8.81</td>\n",
       "      <td>881497670</td>\n",
       "      <td>1186403</td>\n",
       "      <td>2692333</td>\n",
       "      <td>13781104</td>\n",
       "      <td>45688</td>\n",
       "      <td>20515</td>\n",
       "      <td>8.81</td>\n",
       "    </tr>\n",
       "    <tr>\n",
       "      <th>48</th>\n",
       "      <td>2020</td>\n",
       "      <td>1</td>\n",
       "      <td>10.10</td>\n",
       "      <td>1010010231</td>\n",
       "      <td>1359367</td>\n",
       "      <td>2400513</td>\n",
       "      <td>15053038</td>\n",
       "      <td>52875</td>\n",
       "      <td>21249</td>\n",
       "      <td>10.10</td>\n",
       "    </tr>\n",
       "    <tr>\n",
       "      <th>49</th>\n",
       "      <td>2020</td>\n",
       "      <td>2</td>\n",
       "      <td>9.81</td>\n",
       "      <td>981752149</td>\n",
       "      <td>1412593</td>\n",
       "      <td>2630587</td>\n",
       "      <td>13455714</td>\n",
       "      <td>53882</td>\n",
       "      <td>20748</td>\n",
       "      <td>9.82</td>\n",
       "    </tr>\n",
       "    <tr>\n",
       "      <th>50</th>\n",
       "      <td>2020</td>\n",
       "      <td>3</td>\n",
       "      <td>12.18</td>\n",
       "      <td>1218370086</td>\n",
       "      <td>1639798</td>\n",
       "      <td>3402641</td>\n",
       "      <td>17302441</td>\n",
       "      <td>66090</td>\n",
       "      <td>22872</td>\n",
       "      <td>12.18</td>\n",
       "    </tr>\n",
       "    <tr>\n",
       "      <th>51</th>\n",
       "      <td>2020</td>\n",
       "      <td>4</td>\n",
       "      <td>17.92</td>\n",
       "      <td>1792309113</td>\n",
       "      <td>2492780</td>\n",
       "      <td>4455065</td>\n",
       "      <td>17814917</td>\n",
       "      <td>93867</td>\n",
       "      <td>24646</td>\n",
       "      <td>17.92</td>\n",
       "    </tr>\n",
       "    <tr>\n",
       "      <th>52</th>\n",
       "      <td>2020</td>\n",
       "      <td>5</td>\n",
       "      <td>17.55</td>\n",
       "      <td>1755760388</td>\n",
       "      <td>2363069</td>\n",
       "      <td>4043730</td>\n",
       "      <td>20203413</td>\n",
       "      <td>100486</td>\n",
       "      <td>25396</td>\n",
       "      <td>17.56</td>\n",
       "    </tr>\n",
       "    <tr>\n",
       "      <th>53</th>\n",
       "      <td>2020</td>\n",
       "      <td>6</td>\n",
       "      <td>16.29</td>\n",
       "      <td>1629282927</td>\n",
       "      <td>2266040</td>\n",
       "      <td>6060464</td>\n",
       "      <td>18160561</td>\n",
       "      <td>94052</td>\n",
       "      <td>24780</td>\n",
       "      <td>16.29</td>\n",
       "    </tr>\n",
       "    <tr>\n",
       "      <th>54</th>\n",
       "      <td>2020</td>\n",
       "      <td>7</td>\n",
       "      <td>15.72</td>\n",
       "      <td>1572595815</td>\n",
       "      <td>2116548</td>\n",
       "      <td>3965956</td>\n",
       "      <td>18859473</td>\n",
       "      <td>95781</td>\n",
       "      <td>25485</td>\n",
       "      <td>15.73</td>\n",
       "    </tr>\n",
       "    <tr>\n",
       "      <th>55</th>\n",
       "      <td>2020</td>\n",
       "      <td>8</td>\n",
       "      <td>16.20</td>\n",
       "      <td>1620682345</td>\n",
       "      <td>2181268</td>\n",
       "      <td>3861619</td>\n",
       "      <td>19146406</td>\n",
       "      <td>96421</td>\n",
       "      <td>25714</td>\n",
       "      <td>16.21</td>\n",
       "    </tr>\n",
       "    <tr>\n",
       "      <th>56</th>\n",
       "      <td>2020</td>\n",
       "      <td>9</td>\n",
       "      <td>15.85</td>\n",
       "      <td>1585511181</td>\n",
       "      <td>2205161</td>\n",
       "      <td>4816995</td>\n",
       "      <td>18150678</td>\n",
       "      <td>91978</td>\n",
       "      <td>29190</td>\n",
       "      <td>15.86</td>\n",
       "    </tr>\n",
       "    <tr>\n",
       "      <th>57</th>\n",
       "      <td>2020</td>\n",
       "      <td>10</td>\n",
       "      <td>17.74</td>\n",
       "      <td>1774145250</td>\n",
       "      <td>2387813</td>\n",
       "      <td>4208725</td>\n",
       "      <td>19774827</td>\n",
       "      <td>95170</td>\n",
       "      <td>31922</td>\n",
       "      <td>17.74</td>\n",
       "    </tr>\n",
       "    <tr>\n",
       "      <th>58</th>\n",
       "      <td>2020</td>\n",
       "      <td>11</td>\n",
       "      <td>17.89</td>\n",
       "      <td>1789235196</td>\n",
       "      <td>2488505</td>\n",
       "      <td>4380326</td>\n",
       "      <td>20176665</td>\n",
       "      <td>103929</td>\n",
       "      <td>32479</td>\n",
       "      <td>17.89</td>\n",
       "    </tr>\n",
       "    <tr>\n",
       "      <th>59</th>\n",
       "      <td>2020</td>\n",
       "      <td>12</td>\n",
       "      <td>18.77</td>\n",
       "      <td>1877319317</td>\n",
       "      <td>2526674</td>\n",
       "      <td>4860624</td>\n",
       "      <td>22089295</td>\n",
       "      <td>107006</td>\n",
       "      <td>32840</td>\n",
       "      <td>18.77</td>\n",
       "    </tr>\n",
       "  </tbody>\n",
       "</table>\n",
       "</div>"
      ],
      "text/plain": [
       "    Year  Month   Age  Hours_watched  Avg_viewers  Peak_viewers   Streams  \\\n",
       "36  2019      1  9.49      949050474      1277322       2278352  17042119   \n",
       "37  2019      2  8.81      881506851      1313721       2624711  15578420   \n",
       "38  2019      3  9.47      947733580      1275549       2630058  16718941   \n",
       "39  2019      4  8.88      888326199      1235502       2368981  15708616   \n",
       "40  2019      5  9.39      939520272      1264495       2607531  15520889   \n",
       "41  2019      6  9.39      939126720      1306156       3496976  14499225   \n",
       "42  2019      7  9.16      916692478      1233771       2933491  14790881   \n",
       "43  2019      8  9.99      999177398      1344787       2563475  14678509   \n",
       "44  2019      9  8.78      878083331      1221256       2817054  13284517   \n",
       "45  2019     10  9.00      900334210      1211755       2993052  13220814   \n",
       "46  2019     11  8.79      879157590      1222750       2906707  12939422   \n",
       "47  2019     12  8.81      881497670      1186403       2692333  13781104   \n",
       "48  2020      1 10.10     1010010231      1359367       2400513  15053038   \n",
       "49  2020      2  9.81      981752149      1412593       2630587  13455714   \n",
       "50  2020      3 12.18     1218370086      1639798       3402641  17302441   \n",
       "51  2020      4 17.92     1792309113      2492780       4455065  17814917   \n",
       "52  2020      5 17.55     1755760388      2363069       4043730  20203413   \n",
       "53  2020      6 16.29     1629282927      2266040       6060464  18160561   \n",
       "54  2020      7 15.72     1572595815      2116548       3965956  18859473   \n",
       "55  2020      8 16.20     1620682345      2181268       3861619  19146406   \n",
       "56  2020      9 15.85     1585511181      2205161       4816995  18150678   \n",
       "57  2020     10 17.74     1774145250      2387813       4208725  19774827   \n",
       "58  2020     11 17.89     1789235196      2488505       4380326  20176665   \n",
       "59  2020     12 18.77     1877319317      2526674       4860624  22089295   \n",
       "\n",
       "    Avg_channels  Games_streamed  Hours_watched100000000  \n",
       "36         55853           19995                    9.49  \n",
       "37         56375           19573                    8.82  \n",
       "38         55019           20457                    9.48  \n",
       "39         51328           20536                    8.88  \n",
       "40         48357           20751                    9.40  \n",
       "41         47953           20209                    9.39  \n",
       "42         48111           20106                    9.17  \n",
       "43         48508           20421                    9.99  \n",
       "44         46242           19869                    8.78  \n",
       "45         45185           19904                    9.00  \n",
       "46         45655           20248                    8.79  \n",
       "47         45688           20515                    8.81  \n",
       "48         52875           21249                   10.10  \n",
       "49         53882           20748                    9.82  \n",
       "50         66090           22872                   12.18  \n",
       "51         93867           24646                   17.92  \n",
       "52        100486           25396                   17.56  \n",
       "53         94052           24780                   16.29  \n",
       "54         95781           25485                   15.73  \n",
       "55         96421           25714                   16.21  \n",
       "56         91978           29190                   15.86  \n",
       "57         95170           31922                   17.74  \n",
       "58        103929           32479                   17.89  \n",
       "59        107006           32840                   18.77  "
      ]
     },
     "execution_count": 118,
     "metadata": {},
     "output_type": "execute_result"
    }
   ],
   "source": [
    "ano_2019_2020 = sem_2021.loc[sem_2021[\"Year\"] >= 2019]\n",
    "ano_2019_2020"
   ]
  },
  {
   "cell_type": "code",
   "execution_count": 150,
   "metadata": {},
   "outputs": [
    {
     "name": "stderr",
     "output_type": "stream",
     "text": [
      "<ipython-input-150-61d4a0dd5541>:3: SettingWithCopyWarning: \n",
      "A value is trying to be set on a copy of a slice from a DataFrame.\n",
      "Try using .loc[row_indexer,col_indexer] = value instead\n",
      "\n",
      "See the caveats in the documentation: https://pandas.pydata.org/pandas-docs/stable/user_guide/indexing.html#returning-a-view-versus-a-copy\n",
      "  sem_2021['disperção'] = disperção\n"
     ]
    },
    {
     "data": {
      "image/png": "[encoded data removed]",
      "text/plain": [
       "<Figure size 720x576 with 1 Axes>"
      ]
     },
     "metadata": {
      "needs_background": "light"
     },
     "output_type": "display_data"
    }
   ],
   "source": [
    "disperção = sem_2021[\"Hours_watched\"]/100000\n",
    "pd.options.display.float_format = '{:.2f}'.format\n",
    "sem_2021['disperção'] = disperção\n",
    "\n",
    "#---------------------------------------------------------------------------------------------\n",
    "plt.figure(figsize = (10,8))\n",
    "d = sns.scatterplot(data=sem_2021, x= \"disperção\", y=\"Month\", hue=\"Year\",palette=\"deep\")\n",
    "d.set_title(\"periodo do anos com mais horas assitidas\")\n",
    "plt.show()"
   ]
  },
  {
   "cell_type": "code",
   "execution_count": 144,
   "metadata": {},
   "outputs": [
    {
     "data": {
      "text/plain": [
       "<function matplotlib.pyplot.show(close=None, block=None)>"
      ]
     },
     "execution_count": 144,
     "metadata": {},
     "output_type": "execute_result"
    },
    {
     "data": {
      "text/plain": [
       "<Figure size 1440x1440 with 0 Axes>"
      ]
     },
     "metadata": {},
     "output_type": "display_data"
    },
    {
     "data": {
      "image/png": "[encoded data removed]",
      "text/plain": [
       "<Figure size 1800x360 with 5 Axes>"
      ]
     },
     "metadata": {
      "needs_background": "light"
     },
     "output_type": "display_data"
    },
    {
     "data": {
      "image/png": "[encoded data removed]",
      "text/plain": [
       "<Figure size 1800x360 with 5 Axes>"
      ]
     },
     "metadata": {
      "needs_background": "light"
     },
     "output_type": "display_data"
    }
   ],
   "source": [
    "avg = sem_2021[\"Avg_viewers\"]/100000\n",
    "pd.options.display.float_format = '{:.2f}'.format\n",
    "peak = sem_2021[\"Peak_viewers\"]/1000000\n",
    "pd.options.display.float_format = '{:.2f}'.format\n",
    "sem_2021['peak'] = peak\n",
    "sem_2021['avg'] = avg\n",
    "\n",
    "#--------------------------------------------------------------------------------------------------------\n",
    "\n",
    "plt.figure(figsize = (20,20))\n",
    "n = sns.lmplot(data = sem_2021 , x = \"peak\" , y = \"Month\" , line_kws = {\"color\" : \"red\"}, col = \"Year\")\n",
    "m = sns.lmplot(data = sem_2021 , x = \"avg\" , y = \"Month\", line_kws = {\"color\" : \"red\"}, col = \"Year\")\n",
    "plt.show"
   ]
  },
  {
   "cell_type": "code",
   "execution_count": null,
   "metadata": {},
   "outputs": [],
   "source": []
  }
 ],
 "metadata": {
  "kernelspec": {
   "display_name": "Python 3 (ipykernel)",
   "language": "python",
   "name": "python3"
  },
  "language_info": {
   "codemirror_mode": {
    "name": "ipython",
    "version": 3
   },
   "file_extension": ".py",
   "mimetype": "text/x-python",
   "name": "python",
   "nbconvert_exporter": "python",
   "pygments_lexer": "ipython3",
   "version": "3.9.7"
  }
 },
 "nbformat": 4,
 "nbformat_minor": 4
}
