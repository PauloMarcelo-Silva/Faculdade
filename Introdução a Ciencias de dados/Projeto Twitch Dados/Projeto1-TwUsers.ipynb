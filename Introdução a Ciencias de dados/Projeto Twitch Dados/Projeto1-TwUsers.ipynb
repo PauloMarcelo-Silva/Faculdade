{
 "cells": [
  {
   "cell_type": "code",
   "execution_count": 5,
   "metadata": {},
   "outputs": [
    {
     "data": {
      "text/html": [
       "<div>\n",
       "<style scoped>\n",
       "    .dataframe tbody tr th:only-of-type {\n",
       "        vertical-align: middle;\n",
       "    }\n",
       "\n",
       "    .dataframe tbody tr th {\n",
       "        vertical-align: top;\n",
       "    }\n",
       "\n",
       "    .dataframe thead th {\n",
       "        text-align: right;\n",
       "    }\n",
       "</style>\n",
       "<table border=\"1\" class=\"dataframe\">\n",
       "  <thead>\n",
       "    <tr style=\"text-align: right;\">\n",
       "      <th></th>\n",
       "      <th>Channel</th>\n",
       "      <th>Watch time(Minutes)</th>\n",
       "      <th>Stream time(minutes)</th>\n",
       "      <th>Peak viewers</th>\n",
       "      <th>Average viewers</th>\n",
       "      <th>Followers</th>\n",
       "      <th>Followers gained</th>\n",
       "      <th>Views gained</th>\n",
       "      <th>Partnered</th>\n",
       "      <th>Mature</th>\n",
       "      <th>Language</th>\n",
       "    </tr>\n",
       "  </thead>\n",
       "  <tbody>\n",
       "    <tr>\n",
       "      <th>0</th>\n",
       "      <td>xQcOW</td>\n",
       "      <td>6196161750</td>\n",
       "      <td>215250</td>\n",
       "      <td>222720</td>\n",
       "      <td>27716</td>\n",
       "      <td>3246298</td>\n",
       "      <td>1734810</td>\n",
       "      <td>93036735</td>\n",
       "      <td>True</td>\n",
       "      <td>False</td>\n",
       "      <td>English</td>\n",
       "    </tr>\n",
       "    <tr>\n",
       "      <th>1</th>\n",
       "      <td>summit1g</td>\n",
       "      <td>6091677300</td>\n",
       "      <td>211845</td>\n",
       "      <td>310998</td>\n",
       "      <td>25610</td>\n",
       "      <td>5310163</td>\n",
       "      <td>1370184</td>\n",
       "      <td>89705964</td>\n",
       "      <td>True</td>\n",
       "      <td>False</td>\n",
       "      <td>English</td>\n",
       "    </tr>\n",
       "    <tr>\n",
       "      <th>2</th>\n",
       "      <td>Gaules</td>\n",
       "      <td>5644590915</td>\n",
       "      <td>515280</td>\n",
       "      <td>387315</td>\n",
       "      <td>10976</td>\n",
       "      <td>1767635</td>\n",
       "      <td>1023779</td>\n",
       "      <td>102611607</td>\n",
       "      <td>True</td>\n",
       "      <td>True</td>\n",
       "      <td>Portuguese</td>\n",
       "    </tr>\n",
       "    <tr>\n",
       "      <th>3</th>\n",
       "      <td>ESL_CSGO</td>\n",
       "      <td>3970318140</td>\n",
       "      <td>517740</td>\n",
       "      <td>300575</td>\n",
       "      <td>7714</td>\n",
       "      <td>3944850</td>\n",
       "      <td>703986</td>\n",
       "      <td>106546942</td>\n",
       "      <td>True</td>\n",
       "      <td>False</td>\n",
       "      <td>English</td>\n",
       "    </tr>\n",
       "    <tr>\n",
       "      <th>4</th>\n",
       "      <td>Tfue</td>\n",
       "      <td>3671000070</td>\n",
       "      <td>123660</td>\n",
       "      <td>285644</td>\n",
       "      <td>29602</td>\n",
       "      <td>8938903</td>\n",
       "      <td>2068424</td>\n",
       "      <td>78998587</td>\n",
       "      <td>True</td>\n",
       "      <td>False</td>\n",
       "      <td>English</td>\n",
       "    </tr>\n",
       "    <tr>\n",
       "      <th>...</th>\n",
       "      <td>...</td>\n",
       "      <td>...</td>\n",
       "      <td>...</td>\n",
       "      <td>...</td>\n",
       "      <td>...</td>\n",
       "      <td>...</td>\n",
       "      <td>...</td>\n",
       "      <td>...</td>\n",
       "      <td>...</td>\n",
       "      <td>...</td>\n",
       "      <td>...</td>\n",
       "    </tr>\n",
       "    <tr>\n",
       "      <th>995</th>\n",
       "      <td>LITkillah</td>\n",
       "      <td>122524635</td>\n",
       "      <td>13560</td>\n",
       "      <td>21359</td>\n",
       "      <td>9104</td>\n",
       "      <td>601927</td>\n",
       "      <td>562691</td>\n",
       "      <td>2162107</td>\n",
       "      <td>True</td>\n",
       "      <td>False</td>\n",
       "      <td>Spanish</td>\n",
       "    </tr>\n",
       "    <tr>\n",
       "      <th>996</th>\n",
       "      <td>빅헤드 (bighead033)</td>\n",
       "      <td>122523705</td>\n",
       "      <td>153000</td>\n",
       "      <td>3940</td>\n",
       "      <td>793</td>\n",
       "      <td>213212</td>\n",
       "      <td>52289</td>\n",
       "      <td>4399897</td>\n",
       "      <td>True</td>\n",
       "      <td>False</td>\n",
       "      <td>Korean</td>\n",
       "    </tr>\n",
       "    <tr>\n",
       "      <th>997</th>\n",
       "      <td>마스카 (newmasca)</td>\n",
       "      <td>122452320</td>\n",
       "      <td>217410</td>\n",
       "      <td>6431</td>\n",
       "      <td>567</td>\n",
       "      <td>109068</td>\n",
       "      <td>-4942</td>\n",
       "      <td>3417970</td>\n",
       "      <td>True</td>\n",
       "      <td>False</td>\n",
       "      <td>Korean</td>\n",
       "    </tr>\n",
       "    <tr>\n",
       "      <th>998</th>\n",
       "      <td>AndyMilonakis</td>\n",
       "      <td>122311065</td>\n",
       "      <td>104745</td>\n",
       "      <td>10543</td>\n",
       "      <td>1153</td>\n",
       "      <td>547446</td>\n",
       "      <td>109111</td>\n",
       "      <td>3926918</td>\n",
       "      <td>True</td>\n",
       "      <td>False</td>\n",
       "      <td>English</td>\n",
       "    </tr>\n",
       "    <tr>\n",
       "      <th>999</th>\n",
       "      <td>Remx</td>\n",
       "      <td>122192850</td>\n",
       "      <td>99180</td>\n",
       "      <td>13788</td>\n",
       "      <td>1205</td>\n",
       "      <td>178553</td>\n",
       "      <td>59432</td>\n",
       "      <td>2049420</td>\n",
       "      <td>True</td>\n",
       "      <td>False</td>\n",
       "      <td>French</td>\n",
       "    </tr>\n",
       "  </tbody>\n",
       "</table>\n",
       "<p>1000 rows × 11 columns</p>\n",
       "</div>"
      ],
      "text/plain": [
       "              Channel  Watch time(Minutes)  Stream time(minutes)  \\\n",
       "0               xQcOW           6196161750                215250   \n",
       "1            summit1g           6091677300                211845   \n",
       "2              Gaules           5644590915                515280   \n",
       "3            ESL_CSGO           3970318140                517740   \n",
       "4                Tfue           3671000070                123660   \n",
       "..                ...                  ...                   ...   \n",
       "995         LITkillah            122524635                 13560   \n",
       "996  빅헤드 (bighead033)            122523705                153000   \n",
       "997    마스카 (newmasca)            122452320                217410   \n",
       "998     AndyMilonakis            122311065                104745   \n",
       "999              Remx            122192850                 99180   \n",
       "\n",
       "     Peak viewers  Average viewers  Followers  Followers gained  Views gained  \\\n",
       "0          222720            27716    3246298           1734810      93036735   \n",
       "1          310998            25610    5310163           1370184      89705964   \n",
       "2          387315            10976    1767635           1023779     102611607   \n",
       "3          300575             7714    3944850            703986     106546942   \n",
       "4          285644            29602    8938903           2068424      78998587   \n",
       "..            ...              ...        ...               ...           ...   \n",
       "995         21359             9104     601927            562691       2162107   \n",
       "996          3940              793     213212             52289       4399897   \n",
       "997          6431              567     109068             -4942       3417970   \n",
       "998         10543             1153     547446            109111       3926918   \n",
       "999         13788             1205     178553             59432       2049420   \n",
       "\n",
       "     Partnered  Mature    Language  \n",
       "0         True   False     English  \n",
       "1         True   False     English  \n",
       "2         True    True  Portuguese  \n",
       "3         True   False     English  \n",
       "4         True   False     English  \n",
       "..         ...     ...         ...  \n",
       "995       True   False     Spanish  \n",
       "996       True   False      Korean  \n",
       "997       True   False      Korean  \n",
       "998       True   False     English  \n",
       "999       True   False      French  \n",
       "\n",
       "[1000 rows x 11 columns]"
      ]
     },
     "execution_count": 5,
     "metadata": {},
     "output_type": "execute_result"
    }
   ],
   "source": [
    "import pandas as pd\n",
    "import numpy as np\n",
    "import math as mt\n",
    "import scipy as sp\n",
    "import matplotlib.pyplot as plt\n",
    "import seaborn as sns\n",
    "TwUsers = pd.read_csv('Twitch_user_data.csv')\n",
    "TwUsers"
   ]
  },
  {
   "cell_type": "markdown",
   "metadata": {},
   "source": [
    "# Média"
   ]
  },
  {
   "cell_type": "code",
   "execution_count": 6,
   "metadata": {},
   "outputs": [
    {
     "name": "stdout",
     "output_type": "stream",
     "text": [
      "Média Watch time(minutes): 418427930.13\n",
      "Média Stream time(minutes): 120515.16\n",
      "Média Peak viewers: 37065.051\n",
      "Média Average viewers: 4781.04\n",
      "Média Followers: 570054.068\n",
      "Média Followers gained: 205518.534\n",
      "Média Views gained: 11668165.613\n"
     ]
    }
   ],
   "source": [
    "print('Média Watch time(minutes):',np.mean(TwUsers['Watch time(Minutes)']))\n",
    "print('Média Stream time(minutes):',np.mean(TwUsers['Stream time(minutes)']))\n",
    "print('Média Peak viewers:',np.mean(TwUsers['Peak viewers']))\n",
    "print('Média Average viewers:',np.mean(TwUsers['Average viewers']))\n",
    "print('Média Followers:',np.mean(TwUsers['Followers']))\n",
    "print('Média Followers gained:',np.mean(TwUsers['Followers gained']))\n",
    "print('Média Views gained:',np.mean(TwUsers['Views gained']))"
   ]
  },
  {
   "cell_type": "markdown",
   "metadata": {},
   "source": [
    "# Mediana"
   ]
  },
  {
   "cell_type": "code",
   "execution_count": 7,
   "metadata": {},
   "outputs": [
    {
     "name": "stdout",
     "output_type": "stream",
     "text": [
      "Mediana Watch time(minutes): 234990787.5\n",
      "Mediana Stream time(minutes): 108240.0\n",
      "Mediana Peak viewers: 16676.0\n",
      "Mediana Average viewers: 2425.0\n",
      "Mediana Followers: 318063.0\n",
      "Mediana Followers gained: 98352.0\n",
      "Mediana Views gained: 6456323.5\n"
     ]
    }
   ],
   "source": [
    "#Mediana\n",
    "print('Mediana Watch time(minutes):',np.median(TwUsers['Watch time(Minutes)']))\n",
    "print('Mediana Stream time(minutes):',np.median(TwUsers['Stream time(minutes)']))\n",
    "print('Mediana Peak viewers:',np.median(TwUsers['Peak viewers']))\n",
    "print('Mediana Average viewers:',np.median(TwUsers['Average viewers']))\n",
    "print('Mediana Followers:',np.median(TwUsers['Followers']))\n",
    "print('Mediana Followers gained:',np.median(TwUsers['Followers gained']))\n",
    "print('Mediana Views gained:',np.median(TwUsers['Views gained']))"
   ]
  },
  {
   "cell_type": "markdown",
   "metadata": {},
   "source": [
    "# Moda"
   ]
  },
  {
   "cell_type": "code",
   "execution_count": 8,
   "metadata": {},
   "outputs": [],
   "source": [
    "#Moda"
   ]
  },
  {
   "cell_type": "markdown",
   "metadata": {},
   "source": [
    "# Desvio Padrão"
   ]
  },
  {
   "cell_type": "code",
   "execution_count": 9,
   "metadata": {},
   "outputs": [
    {
     "name": "stdout",
     "output_type": "stream",
     "text": [
      "DesvioPadrão Watch time(minutes): 549360627.5874493\n",
      "DesvioPadrão Stream time(minutes): 85333.50258617301\n",
      "DesvioPadrão Peak viewers: 60284.14298915102\n",
      "DesvioPadrão Average viewers: 8449.457064948017\n",
      "DesvioPadrão Followers: 804011.0603669491\n",
      "DesvioPadrão Followers gained: 339743.71359095525\n",
      "DesvioPadrão Views gained: 24893266.470604733\n"
     ]
    }
   ],
   "source": [
    "#Desvio Padrão\n",
    "print('DesvioPadrão Watch time(minutes):',mt.sqrt(np.var(TwUsers['Watch time(Minutes)'])))\n",
    "print('DesvioPadrão Stream time(minutes):',mt.sqrt(np.var(TwUsers['Stream time(minutes)'])))\n",
    "print('DesvioPadrão Peak viewers:',mt.sqrt(np.var(TwUsers['Peak viewers'])))\n",
    "print('DesvioPadrão Average viewers:',mt.sqrt(np.var(TwUsers['Average viewers'])))\n",
    "print('DesvioPadrão Followers:',mt.sqrt(np.var(TwUsers['Followers'])))\n",
    "print('DesvioPadrão Followers gained:',mt.sqrt(np.var(TwUsers['Followers gained'])))\n",
    "print('DesvioPadrão Views gained:',mt.sqrt(np.var(TwUsers['Views gained'])))"
   ]
  },
  {
   "cell_type": "markdown",
   "metadata": {},
   "source": [
    "# Boxplot Geral"
   ]
  },
  {
   "cell_type": "code",
   "execution_count": 10,
   "metadata": {},
   "outputs": [
    {
     "name": "stdout",
     "output_type": "stream",
     "text": [
      "Watch time(Minutes): AxesSubplot(0.125,0.125;0.775x0.755)\n",
      "Stream time(minutes): AxesSubplot(0.125,0.125;0.775x0.755)\n",
      "Peak viewers: AxesSubplot(0.125,0.125;0.775x0.755)\n",
      "Average viewers: AxesSubplot(0.125,0.125;0.775x0.755)\n",
      "Followers: AxesSubplot(0.125,0.125;0.775x0.755)\n",
      "Followers gained: AxesSubplot(0.125,0.125;0.775x0.755)\n",
      "Views gained: AxesSubplot(0.125,0.125;0.775x0.755)\n"
     ]
    },
    {
     "data": {
      "image/png": "[encoded data removed]",
      "text/plain": [
       "<Figure size 576x432 with 1 Axes>"
      ]
     },
     "metadata": {
      "needs_background": "light"
     },
     "output_type": "display_data"
    }
   ],
   "source": [
    "#Boxplot Geral\n",
    "plt.figure(figsize = (8,6))\n",
    "print(\"Watch time(Minutes):\",TwUsers.boxplot(column=\"Watch time(Minutes)\"))\n",
    "print(\"Stream time(minutes):\",TwUsers.boxplot(column=\"Stream time(minutes)\"))\n",
    "print(\"Peak viewers:\",TwUsers.boxplot(column=\"Peak viewers\"))\n",
    "print(\"Average viewers:\",TwUsers.boxplot(column=\"Average viewers\"))\n",
    "print(\"Followers:\",TwUsers.boxplot(column=\"Followers\"))\n",
    "print(\"Followers gained:\",TwUsers.boxplot(column=\"Followers gained\"))\n",
    "print(\"Views gained:\",TwUsers.boxplot(column=\"Views gained\"))"
   ]
  },
  {
   "cell_type": "markdown",
   "metadata": {},
   "source": [
    "# Boxplot"
   ]
  },
  {
   "cell_type": "code",
   "execution_count": 11,
   "metadata": {},
   "outputs": [
    {
     "name": "stdout",
     "output_type": "stream",
     "text": [
      "Watch time(Minutes): AxesSubplot(0.125,0.125;0.775x0.755)\n"
     ]
    },
    {
     "data": {
      "image/png": "[encoded data removed]",
      "text/plain": [
       "<Figure size 576x432 with 1 Axes>"
      ]
     },
     "metadata": {
      "needs_background": "light"
     },
     "output_type": "display_data"
    }
   ],
   "source": [
    "plt.figure(figsize = (8,6))\n",
    "print(\"Watch time(Minutes):\",TwUsers.boxplot(column=\"Watch time(Minutes)\"))"
   ]
  },
  {
   "cell_type": "code",
   "execution_count": 12,
   "metadata": {},
   "outputs": [
    {
     "name": "stdout",
     "output_type": "stream",
     "text": [
      "Stream time(minutes): AxesSubplot(0.125,0.125;0.775x0.755)\n"
     ]
    },
    {
     "data": {
      "image/png": "[encoded data removed]",
      "text/plain": [
       "<Figure size 576x432 with 1 Axes>"
      ]
     },
     "metadata": {
      "needs_background": "light"
     },
     "output_type": "display_data"
    }
   ],
   "source": [
    "plt.figure(figsize = (8,6))\n",
    "print(\"Stream time(minutes):\",TwUsers.boxplot(column=\"Stream time(minutes)\"))"
   ]
  },
  {
   "cell_type": "code",
   "execution_count": 13,
   "metadata": {},
   "outputs": [
    {
     "name": "stdout",
     "output_type": "stream",
     "text": [
      "Peak viewers: AxesSubplot(0.125,0.125;0.775x0.755)\n"
     ]
    },
    {
     "data": {
      "image/png": "[encoded data removed]",
      "text/plain": [
       "<Figure size 576x432 with 1 Axes>"
      ]
     },
     "metadata": {
      "needs_background": "light"
     },
     "output_type": "display_data"
    }
   ],
   "source": [
    "plt.figure(figsize = (8,6))\n",
    "print(\"Peak viewers:\",TwUsers.boxplot(column=\"Peak viewers\"))"
   ]
  },
  {
   "cell_type": "code",
   "execution_count": 14,
   "metadata": {},
   "outputs": [
    {
     "name": "stdout",
     "output_type": "stream",
     "text": [
      "Average viewers: AxesSubplot(0.125,0.125;0.775x0.755)\n"
     ]
    },
    {
     "data": {
      "image/png": "[encoded data removed]",
      "text/plain": [
       "<Figure size 576x432 with 1 Axes>"
      ]
     },
     "metadata": {
      "needs_background": "light"
     },
     "output_type": "display_data"
    }
   ],
   "source": [
    "plt.figure(figsize = (8,6))\n",
    "print(\"Average viewers:\",TwUsers.boxplot(column=\"Average viewers\"))"
   ]
  },
  {
   "cell_type": "code",
   "execution_count": 15,
   "metadata": {},
   "outputs": [
    {
     "name": "stdout",
     "output_type": "stream",
     "text": [
      "Followers: AxesSubplot(0.125,0.125;0.775x0.755)\n"
     ]
    },
    {
     "data": {
      "image/png": "[encoded data removed]",
      "text/plain": [
       "<Figure size 576x432 with 1 Axes>"
      ]
     },
     "metadata": {
      "needs_background": "light"
     },
     "output_type": "display_data"
    }
   ],
   "source": [
    "plt.figure(figsize = (8,6))\n",
    "print(\"Followers:\",TwUsers.boxplot(column=\"Followers\"))"
   ]
  },
  {
   "cell_type": "code",
   "execution_count": 16,
   "metadata": {},
   "outputs": [
    {
     "name": "stdout",
     "output_type": "stream",
     "text": [
      "Followers gained: AxesSubplot(0.125,0.125;0.775x0.755)\n"
     ]
    },
    {
     "data": {
      "image/png": "[encoded data removed]",
      "text/plain": [
       "<Figure size 576x432 with 1 Axes>"
      ]
     },
     "metadata": {
      "needs_background": "light"
     },
     "output_type": "display_data"
    }
   ],
   "source": [
    "plt.figure(figsize = (8,6))\n",
    "print(\"Followers gained:\",TwUsers.boxplot(column=\"Followers gained\"))"
   ]
  },
  {
   "cell_type": "code",
   "execution_count": null,
   "metadata": {},
   "outputs": [],
   "source": []
  },
  {
   "cell_type": "code",
   "execution_count": null,
   "metadata": {},
   "outputs": [],
   "source": []
  },
  {
   "cell_type": "code",
   "execution_count": null,
   "metadata": {},
   "outputs": [],
   "source": []
  },
  {
   "cell_type": "code",
   "execution_count": null,
   "metadata": {},
   "outputs": [],
   "source": []
  },
  {
   "cell_type": "code",
   "execution_count": null,
   "metadata": {},
   "outputs": [],
   "source": []
  },
  {
   "cell_type": "code",
   "execution_count": null,
   "metadata": {},
   "outputs": [],
   "source": []
  },
  {
   "cell_type": "code",
   "execution_count": null,
   "metadata": {},
   "outputs": [],
   "source": []
  }
 ],
 "metadata": {
  "kernelspec": {
   "display_name": "Python 3 (ipykernel)",
   "language": "python",
   "name": "python3"
  },
  "language_info": {
   "codemirror_mode": {
    "name": "ipython",
    "version": 3
   },
   "file_extension": ".py",
   "mimetype": "text/x-python",
   "name": "python",
   "nbconvert_exporter": "python",
   "pygments_lexer": "ipython3",
   "version": "3.9.7"
  }
 },
 "nbformat": 4,
 "nbformat_minor": 4
}
